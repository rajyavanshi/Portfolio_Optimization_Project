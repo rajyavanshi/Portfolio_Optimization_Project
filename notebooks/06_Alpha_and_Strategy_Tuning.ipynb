{
 "cells": [
  {
   "cell_type": "markdown",
   "id": "66af4321",
   "metadata": {},
   "source": [
    "| Step    | Component                              | Description                                                                                    |\n",
    "| ------- | -------------------------------------- | ---------------------------------------------------------------------------------------------- |\n",
    "| **6.1** | **Feature Refinement**                 | Add features like momentum, volatility, SMA ratios, and RSI to your model inputs.              |\n",
    "| **6.2** | **Target Engineering**                 | Switch from 1-day forward returns → 21-day or 63-day smoothed forward returns to reduce noise. |\n",
    "| **6.3** | **Model Re-tuning**                    | Refit LASSO / Ridge with new target and cross-validation for each period.                      |\n",
    "| **6.4** | **Rebuild Alpha Predictions**          | Generate new `alpha_predictions.csv` using updated model.                                      |\n",
    "| **6.5** | **Re-run IC & Dispersion diagnostics** | Check if IC rises (goal: 0.02–0.05).                                                           |\n",
    "| **6.6** | **Re-run optimizer & backtest**        | See if portfolio Sharpe improves vs EqualWeight.                                               |\n"
   ]
  },
  {
   "cell_type": "markdown",
   "id": "9b916a75",
   "metadata": {},
   "source": [
    "### Stage 6.1 — Feature Refinement Plan & Code Template"
   ]
  },
  {
   "cell_type": "markdown",
   "id": "dfc16621",
   "metadata": {},
   "source": [
    "Purpose :\n",
    "\n",
    "Improve the Information Coefficient (IC) and alpha dispersion\n",
    "by enriching your feature set derived from price & volume data."
   ]
  },
  {
   "cell_type": "markdown",
   "id": "04179a8e",
   "metadata": {},
   "source": [
    "STEP 1  -- What's the Problem Currently\n",
    "\n",
    "Right now, our model’s features are limited to simple returns or lagged values,\n",
    "which are too noisy and too similar across tickers."
   ]
  },
  {
   "cell_type": "markdown",
   "id": "dd5fe8cc",
   "metadata": {},
   "source": [
    "We’ll expand this to include:\n",
    "\n",
    "* Momentum-based factors (trend)\n",
    "\n",
    "* Mean-reversion signals\n",
    "\n",
    "* Volatility measures\n",
    "\n",
    "* Liquidity & volume indicators\n",
    "\n",
    "* Technical ratios (RSI, moving averages)"
   ]
  },
  {
   "cell_type": "markdown",
   "id": "fe218edf",
   "metadata": {},
   "source": [
    "STEP 2 -- New Features to Add"
   ]
  },
  {
   "cell_type": "markdown",
   "id": "696817cf",
   "metadata": {},
   "source": [
    "| Category                          | Feature                           | Formula / Description       | Financial Meaning              |\n",
    "| --------------------------------- | --------------------------------- | --------------------------- | ------------------------------ |\n",
    "| **Momentum**                      | 5D, 21D returns                   | (P(t) / P(t-n) - 1)       | Short-term and monthly trend   |\n",
    "| **Volatility**                    | Rolling std dev (21D)             | Std of daily returns        | Risk perception                |\n",
    "| **Mean Reversion**                | 5D z-score                        | (P(t) - SMA(5) / STD(5)) | Deviation from short-term mean |\n",
    "| **Moving Averages**               | SMA ratios (10/50, 20/100)        | SMA₁/SMA₂                   | Trend regime                   |\n",
    "| **RSI (Relative Strength Index)** | 14-day RSI                        | Standard RSI formula        | Overbought/oversold conditions |\n",
    "| **Liquidity**                     | log(volume) & rolling avg(volume) | Volume indicators           | Trading activity intensity     |\n"
   ]
  },
  {
   "cell_type": "code",
   "execution_count": 3,
   "id": "28323bde",
   "metadata": {},
   "outputs": [],
   "source": [
    "# Cell 1: Setup & Imports\n",
    "\n",
    "import pandas as pd\n",
    "import numpy as np\n",
    "from pathlib import Path\n",
    "import ta  # technical analysis library (pip install ta)\n",
    "import os\n",
    "\n",
    "PROJECT_ROOT = Path(r\"D:\\Portfolio Optimzation project\")\n",
    "DATA_DIR = PROJECT_ROOT / \"data\"\n",
    "ARTIFACTS_DIR = PROJECT_ROOT / \"artifacts\"\n",
    "os.makedirs(ARTIFACTS_DIR, exist_ok=True)\n",
    "\n",
    "PRICE_FILE = DATA_DIR / \"price_data.csv\"\n",
    "OUT_FILE = ARTIFACTS_DIR / \"price_features.csv\"\n"
   ]
  },
  {
   "cell_type": "code",
   "execution_count": 4,
   "id": "2cb258b3",
   "metadata": {},
   "outputs": [
    {
     "name": "stdout",
     "output_type": "stream",
     "text": [
      "Price data: (1063311, 3)\n"
     ]
    },
    {
     "data": {
      "text/html": [
       "<div>\n",
       "<style scoped>\n",
       "    .dataframe tbody tr th:only-of-type {\n",
       "        vertical-align: middle;\n",
       "    }\n",
       "\n",
       "    .dataframe tbody tr th {\n",
       "        vertical-align: top;\n",
       "    }\n",
       "\n",
       "    .dataframe thead th {\n",
       "        text-align: right;\n",
       "    }\n",
       "</style>\n",
       "<table border=\"1\" class=\"dataframe\">\n",
       "  <thead>\n",
       "    <tr style=\"text-align: right;\">\n",
       "      <th></th>\n",
       "      <th>date</th>\n",
       "      <th>ticker</th>\n",
       "      <th>close_price</th>\n",
       "    </tr>\n",
       "  </thead>\n",
       "  <tbody>\n",
       "    <tr>\n",
       "      <th>0</th>\n",
       "      <td>2015-02-02</td>\n",
       "      <td>360ONE_DAILY</td>\n",
       "      <td>56.85</td>\n",
       "    </tr>\n",
       "    <tr>\n",
       "      <th>337</th>\n",
       "      <td>2015-02-03</td>\n",
       "      <td>360ONE_DAILY</td>\n",
       "      <td>55.75</td>\n",
       "    </tr>\n",
       "    <tr>\n",
       "      <th>674</th>\n",
       "      <td>2015-02-04</td>\n",
       "      <td>360ONE_DAILY</td>\n",
       "      <td>57.50</td>\n",
       "    </tr>\n",
       "    <tr>\n",
       "      <th>1011</th>\n",
       "      <td>2015-02-05</td>\n",
       "      <td>360ONE_DAILY</td>\n",
       "      <td>57.05</td>\n",
       "    </tr>\n",
       "    <tr>\n",
       "      <th>1348</th>\n",
       "      <td>2015-02-06</td>\n",
       "      <td>360ONE_DAILY</td>\n",
       "      <td>55.75</td>\n",
       "    </tr>\n",
       "  </tbody>\n",
       "</table>\n",
       "</div>"
      ],
      "text/plain": [
       "           date        ticker  close_price\n",
       "0    2015-02-02  360ONE_DAILY        56.85\n",
       "337  2015-02-03  360ONE_DAILY        55.75\n",
       "674  2015-02-04  360ONE_DAILY        57.50\n",
       "1011 2015-02-05  360ONE_DAILY        57.05\n",
       "1348 2015-02-06  360ONE_DAILY        55.75"
      ]
     },
     "execution_count": 4,
     "metadata": {},
     "output_type": "execute_result"
    }
   ],
   "source": [
    "# Cell 2: Load and prepare data\n",
    "df = pd.read_csv(PRICE_FILE, parse_dates=[\"date\"])\n",
    "df[\"date\"] = pd.to_datetime(df[\"date\"]).dt.tz_localize(None)\n",
    "df = df.sort_values([\"ticker\", \"date\"])\n",
    "\n",
    "print(\"Price data:\", df.shape)\n",
    "df.head()\n"
   ]
  },
  {
   "cell_type": "code",
   "execution_count": 5,
   "id": "71b3cac3",
   "metadata": {},
   "outputs": [
    {
     "name": "stdout",
     "output_type": "stream",
     "text": [
      "Saved enriched features to: D:\\Portfolio Optimzation project\\artifacts\\price_features.csv\n"
     ]
    }
   ],
   "source": [
    "# Cell 3: Compute features\n",
    "\n",
    "features = []\n",
    "\n",
    "for ticker, g in df.groupby(\"ticker\", group_keys=False):\n",
    "    g = g.copy()\n",
    "    g = g.sort_values(\"date\")\n",
    "\n",
    "    # --- Returns ---\n",
    "    g[\"ret_1d\"] = g[\"close_price\"].pct_change()\n",
    "    g[\"ret_5d\"] = g[\"close_price\"].pct_change(5)\n",
    "    g[\"ret_21d\"] = g[\"close_price\"].pct_change(21)\n",
    "\n",
    "    # --- Volatility (21D rolling) ---\n",
    "    g[\"vol_21d\"] = g[\"ret_1d\"].rolling(21).std()\n",
    "\n",
    "    # --- Moving Averages ---\n",
    "    g[\"sma_10\"] = g[\"close_price\"].rolling(10).mean()\n",
    "    g[\"sma_50\"] = g[\"close_price\"].rolling(50).mean()\n",
    "    g[\"sma_20\"] = g[\"close_price\"].rolling(20).mean()\n",
    "    g[\"sma_100\"] = g[\"close_price\"].rolling(100).mean()\n",
    "\n",
    "    # --- SMA Ratios ---\n",
    "    g[\"sma_ratio_10_50\"] = g[\"sma_10\"] / g[\"sma_50\"]\n",
    "    g[\"sma_ratio_20_100\"] = g[\"sma_20\"] / g[\"sma_100\"]\n",
    "\n",
    "    # --- Mean Reversion (z-score) ---\n",
    "    g[\"zscore_5d\"] = (g[\"close_price\"] - g[\"close_price\"].rolling(5).mean()) / g[\"close_price\"].rolling(5).std()\n",
    "\n",
    "    # --- RSI (14-day) ---\n",
    "    g[\"rsi_14\"] = ta.momentum.RSIIndicator(g[\"close_price\"], window=14).rsi()\n",
    "\n",
    "    # --- Liquidity & Volume (Handled Safely) ---\n",
    "    if \"volume\" in g.columns:\n",
    "        #  True volume exists\n",
    "        g[\"log_vol\"] = np.log1p(g[\"volume\"])\n",
    "        g[\"avg_vol_21d\"] = g[\"volume\"].rolling(21).mean()\n",
    "    else:\n",
    "        #  No volume data → use volatility as a proxy for liquidity\n",
    "        g[\"log_vol\"] = -np.log1p(g[\"vol_21d\"])   # inverse relation\n",
    "        g[\"avg_vol_21d\"] = g[\"vol_21d\"]\n",
    "\n",
    "    # --- Clean-up ---\n",
    "    g = g.drop(columns=[\"open\", \"high\", \"low\"], errors=\"ignore\")\n",
    "\n",
    "    features.append(g)\n",
    "\n",
    "# --- Combine all tickers ---\n",
    "feat_df = pd.concat(features, ignore_index=True)\n",
    "\n",
    "# --- Drop incomplete lookbacks ---\n",
    "feat_df = feat_df.dropna(subset=[\"ret_21d\"])\n",
    "\n",
    "# --- Save enriched features ---\n",
    "feat_df.to_csv(OUT_FILE, index=False)\n",
    "print(\"Saved enriched features to:\", OUT_FILE)\n"
   ]
  },
  {
   "cell_type": "code",
   "execution_count": 6,
   "id": "c13b23bb",
   "metadata": {},
   "outputs": [
    {
     "name": "stdout",
     "output_type": "stream",
     "text": [
      "Feature matrix shape: (1052842, 17)\n",
      "\n",
      "Columns:\n",
      " ['date', 'ticker', 'close_price', 'ret_1d', 'ret_5d', 'ret_21d', 'vol_21d', 'sma_10', 'sma_50', 'sma_20', 'sma_100', 'sma_ratio_10_50', 'sma_ratio_20_100', 'zscore_5d', 'rsi_14', 'log_vol', 'avg_vol_21d']\n",
      "\n",
      "Missing value summary:\n",
      "sma_ratio_20_100    0.037\n",
      "sma_100             0.037\n",
      "sma_50              0.013\n",
      "sma_ratio_10_50     0.013\n",
      "avg_vol_21d         0.001\n",
      "log_vol             0.001\n",
      "vol_21d             0.001\n",
      "date                0.000\n",
      "ticker              0.000\n",
      "sma_10              0.000\n",
      "dtype: float64\n"
     ]
    },
    {
     "name": "stderr",
     "output_type": "stream",
     "text": [
      "c:\\ProgramData\\anaconda3\\envs\\portfolio_opt\\lib\\site-packages\\pandas\\core\\nanops.py:1016: RuntimeWarning: invalid value encountered in subtract\n",
      "  sqr = _ensure_numeric((avg - values) ** 2)\n",
      "c:\\ProgramData\\anaconda3\\envs\\portfolio_opt\\lib\\site-packages\\pandas\\core\\nanops.py:1016: RuntimeWarning: invalid value encountered in subtract\n",
      "  sqr = _ensure_numeric((avg - values) ** 2)\n",
      "c:\\ProgramData\\anaconda3\\envs\\portfolio_opt\\lib\\site-packages\\pandas\\core\\nanops.py:1016: RuntimeWarning: invalid value encountered in subtract\n",
      "  sqr = _ensure_numeric((avg - values) ** 2)\n"
     ]
    },
    {
     "data": {
      "text/html": [
       "<div>\n",
       "<style scoped>\n",
       "    .dataframe tbody tr th:only-of-type {\n",
       "        vertical-align: middle;\n",
       "    }\n",
       "\n",
       "    .dataframe tbody tr th {\n",
       "        vertical-align: top;\n",
       "    }\n",
       "\n",
       "    .dataframe thead th {\n",
       "        text-align: right;\n",
       "    }\n",
       "</style>\n",
       "<table border=\"1\" class=\"dataframe\">\n",
       "  <thead>\n",
       "    <tr style=\"text-align: right;\">\n",
       "      <th></th>\n",
       "      <th>count</th>\n",
       "      <th>mean</th>\n",
       "      <th>min</th>\n",
       "      <th>5%</th>\n",
       "      <th>50%</th>\n",
       "      <th>95%</th>\n",
       "      <th>max</th>\n",
       "      <th>std</th>\n",
       "    </tr>\n",
       "  </thead>\n",
       "  <tbody>\n",
       "    <tr>\n",
       "      <th>date</th>\n",
       "      <td>1052842</td>\n",
       "      <td>2020-10-12 12:59:05.393514752</td>\n",
       "      <td>2015-03-03 00:00:00</td>\n",
       "      <td>2015-10-20 00:00:00</td>\n",
       "      <td>2020-12-16 00:00:00</td>\n",
       "      <td>2025-03-20 00:00:00</td>\n",
       "      <td>2025-08-26 00:00:00</td>\n",
       "      <td>NaN</td>\n",
       "    </tr>\n",
       "    <tr>\n",
       "      <th>close_price</th>\n",
       "      <td>1052842.0</td>\n",
       "      <td>1374.033237</td>\n",
       "      <td>0.0</td>\n",
       "      <td>27.05</td>\n",
       "      <td>394.0</td>\n",
       "      <td>4355.0</td>\n",
       "      <td>152175.0</td>\n",
       "      <td>5139.168175</td>\n",
       "    </tr>\n",
       "    <tr>\n",
       "      <th>ret_1d</th>\n",
       "      <td>1052722.0</td>\n",
       "      <td>inf</td>\n",
       "      <td>-1.0</td>\n",
       "      <td>-0.035778</td>\n",
       "      <td>-0.000124</td>\n",
       "      <td>0.042945</td>\n",
       "      <td>inf</td>\n",
       "      <td>NaN</td>\n",
       "    </tr>\n",
       "    <tr>\n",
       "      <th>ret_5d</th>\n",
       "      <td>1052765.0</td>\n",
       "      <td>inf</td>\n",
       "      <td>-1.0</td>\n",
       "      <td>-0.079537</td>\n",
       "      <td>0.001176</td>\n",
       "      <td>0.100503</td>\n",
       "      <td>inf</td>\n",
       "      <td>NaN</td>\n",
       "    </tr>\n",
       "    <tr>\n",
       "      <th>ret_21d</th>\n",
       "      <td>1052842.0</td>\n",
       "      <td>inf</td>\n",
       "      <td>-1.0</td>\n",
       "      <td>-0.152809</td>\n",
       "      <td>0.010432</td>\n",
       "      <td>0.22619</td>\n",
       "      <td>inf</td>\n",
       "      <td>NaN</td>\n",
       "    </tr>\n",
       "    <tr>\n",
       "      <th>vol_21d</th>\n",
       "      <td>1052048.0</td>\n",
       "      <td>0.027281</td>\n",
       "      <td>0.00002</td>\n",
       "      <td>0.010814</td>\n",
       "      <td>0.0211</td>\n",
       "      <td>0.044286</td>\n",
       "      <td>122.531775</td>\n",
       "      <td>0.565661</td>\n",
       "    </tr>\n",
       "    <tr>\n",
       "      <th>sma_10</th>\n",
       "      <td>1052842.0</td>\n",
       "      <td>1370.231833</td>\n",
       "      <td>0.0</td>\n",
       "      <td>27.10515</td>\n",
       "      <td>393.01</td>\n",
       "      <td>4341.59475</td>\n",
       "      <td>149602.5</td>\n",
       "      <td>5125.978418</td>\n",
       "    </tr>\n",
       "    <tr>\n",
       "      <th>sma_50</th>\n",
       "      <td>1038945.0</td>\n",
       "      <td>1362.34903</td>\n",
       "      <td>0.744</td>\n",
       "      <td>27.261</td>\n",
       "      <td>391.65</td>\n",
       "      <td>4319.1094</td>\n",
       "      <td>144509.1</td>\n",
       "      <td>5092.210868</td>\n",
       "    </tr>\n",
       "    <tr>\n",
       "      <th>sma_20</th>\n",
       "      <td>1052842.0</td>\n",
       "      <td>1366.053759</td>\n",
       "      <td>0.0</td>\n",
       "      <td>27.0725</td>\n",
       "      <td>392.07</td>\n",
       "      <td>4329.62825</td>\n",
       "      <td>148661.0</td>\n",
       "      <td>5111.671119</td>\n",
       "    </tr>\n",
       "    <tr>\n",
       "      <th>sma_100</th>\n",
       "      <td>1014108.0</td>\n",
       "      <td>1357.86832</td>\n",
       "      <td>1.107</td>\n",
       "      <td>27.392175</td>\n",
       "      <td>390.859</td>\n",
       "      <td>4280.9928</td>\n",
       "      <td>138743.2675</td>\n",
       "      <td>5068.213753</td>\n",
       "    </tr>\n",
       "    <tr>\n",
       "      <th>sma_ratio_10_50</th>\n",
       "      <td>1038945.0</td>\n",
       "      <td>1.014538</td>\n",
       "      <td>0.0</td>\n",
       "      <td>0.887454</td>\n",
       "      <td>1.010249</td>\n",
       "      <td>1.1543</td>\n",
       "      <td>4.931407</td>\n",
       "      <td>0.093997</td>\n",
       "    </tr>\n",
       "    <tr>\n",
       "      <th>sma_ratio_20_100</th>\n",
       "      <td>1014108.0</td>\n",
       "      <td>1.029192</td>\n",
       "      <td>0.041566</td>\n",
       "      <td>0.84639</td>\n",
       "      <td>1.020868</td>\n",
       "      <td>1.236705</td>\n",
       "      <td>4.689581</td>\n",
       "      <td>0.131376</td>\n",
       "    </tr>\n",
       "    <tr>\n",
       "      <th>zscore_5d</th>\n",
       "      <td>1052692.0</td>\n",
       "      <td>0.009498</td>\n",
       "      <td>-1.788855</td>\n",
       "      <td>-1.544318</td>\n",
       "      <td>0.012921</td>\n",
       "      <td>1.581742</td>\n",
       "      <td>1.788854</td>\n",
       "      <td>1.030886</td>\n",
       "    </tr>\n",
       "    <tr>\n",
       "      <th>rsi_14</th>\n",
       "      <td>1052842.0</td>\n",
       "      <td>51.576744</td>\n",
       "      <td>0.0</td>\n",
       "      <td>31.508066</td>\n",
       "      <td>51.412338</td>\n",
       "      <td>72.073726</td>\n",
       "      <td>100.0</td>\n",
       "      <td>12.325541</td>\n",
       "    </tr>\n",
       "    <tr>\n",
       "      <th>log_vol</th>\n",
       "      <td>1052048.0</td>\n",
       "      <td>-0.023645</td>\n",
       "      <td>-4.816498</td>\n",
       "      <td>-0.043334</td>\n",
       "      <td>-0.02088</td>\n",
       "      <td>-0.010756</td>\n",
       "      <td>-0.00002</td>\n",
       "      <td>0.035258</td>\n",
       "    </tr>\n",
       "  </tbody>\n",
       "</table>\n",
       "</div>"
      ],
      "text/plain": [
       "                      count                           mean  \\\n",
       "date                1052842  2020-10-12 12:59:05.393514752   \n",
       "close_price       1052842.0                    1374.033237   \n",
       "ret_1d            1052722.0                            inf   \n",
       "ret_5d            1052765.0                            inf   \n",
       "ret_21d           1052842.0                            inf   \n",
       "vol_21d           1052048.0                       0.027281   \n",
       "sma_10            1052842.0                    1370.231833   \n",
       "sma_50            1038945.0                     1362.34903   \n",
       "sma_20            1052842.0                    1366.053759   \n",
       "sma_100           1014108.0                     1357.86832   \n",
       "sma_ratio_10_50   1038945.0                       1.014538   \n",
       "sma_ratio_20_100  1014108.0                       1.029192   \n",
       "zscore_5d         1052692.0                       0.009498   \n",
       "rsi_14            1052842.0                      51.576744   \n",
       "log_vol           1052048.0                      -0.023645   \n",
       "\n",
       "                                  min                   5%  \\\n",
       "date              2015-03-03 00:00:00  2015-10-20 00:00:00   \n",
       "close_price                       0.0                27.05   \n",
       "ret_1d                           -1.0            -0.035778   \n",
       "ret_5d                           -1.0            -0.079537   \n",
       "ret_21d                          -1.0            -0.152809   \n",
       "vol_21d                       0.00002             0.010814   \n",
       "sma_10                            0.0             27.10515   \n",
       "sma_50                          0.744               27.261   \n",
       "sma_20                            0.0              27.0725   \n",
       "sma_100                         1.107            27.392175   \n",
       "sma_ratio_10_50                   0.0             0.887454   \n",
       "sma_ratio_20_100             0.041566              0.84639   \n",
       "zscore_5d                   -1.788855            -1.544318   \n",
       "rsi_14                            0.0            31.508066   \n",
       "log_vol                     -4.816498            -0.043334   \n",
       "\n",
       "                                  50%                  95%  \\\n",
       "date              2020-12-16 00:00:00  2025-03-20 00:00:00   \n",
       "close_price                     394.0               4355.0   \n",
       "ret_1d                      -0.000124             0.042945   \n",
       "ret_5d                       0.001176             0.100503   \n",
       "ret_21d                      0.010432              0.22619   \n",
       "vol_21d                        0.0211             0.044286   \n",
       "sma_10                         393.01           4341.59475   \n",
       "sma_50                         391.65            4319.1094   \n",
       "sma_20                         392.07           4329.62825   \n",
       "sma_100                       390.859            4280.9928   \n",
       "sma_ratio_10_50              1.010249               1.1543   \n",
       "sma_ratio_20_100             1.020868             1.236705   \n",
       "zscore_5d                    0.012921             1.581742   \n",
       "rsi_14                      51.412338            72.073726   \n",
       "log_vol                      -0.02088            -0.010756   \n",
       "\n",
       "                                  max          std  \n",
       "date              2025-08-26 00:00:00          NaN  \n",
       "close_price                  152175.0  5139.168175  \n",
       "ret_1d                            inf          NaN  \n",
       "ret_5d                            inf          NaN  \n",
       "ret_21d                           inf          NaN  \n",
       "vol_21d                    122.531775     0.565661  \n",
       "sma_10                       149602.5  5125.978418  \n",
       "sma_50                       144509.1  5092.210868  \n",
       "sma_20                       148661.0  5111.671119  \n",
       "sma_100                   138743.2675  5068.213753  \n",
       "sma_ratio_10_50              4.931407     0.093997  \n",
       "sma_ratio_20_100             4.689581     0.131376  \n",
       "zscore_5d                    1.788854     1.030886  \n",
       "rsi_14                          100.0    12.325541  \n",
       "log_vol                      -0.00002     0.035258  "
      ]
     },
     "execution_count": 6,
     "metadata": {},
     "output_type": "execute_result"
    }
   ],
   "source": [
    "# Cell 4: Feature check and summary\n",
    "print(\"Feature matrix shape:\", feat_df.shape)\n",
    "print(\"\\nColumns:\\n\", list(feat_df.columns))\n",
    "print(\"\\nMissing value summary:\")\n",
    "print(feat_df.isna().mean().round(3).sort_values(ascending=False).head(10))\n",
    "\n",
    "feat_df.describe(percentiles=[0.05,0.5,0.95]).T.head(15)\n"
   ]
  },
  {
   "cell_type": "markdown",
   "id": "5adf6186",
   "metadata": {},
   "source": [
    "### Stage 6.2 -- Target Engineering"
   ]
  },
  {
   "cell_type": "markdown",
   "id": "12bef883",
   "metadata": {},
   "source": [
    "Purpose \n",
    "\n",
    "Our original model used next-day returns as the prediction target which is too noisy and unstable.\n",
    "\n",
    "Now we will engineer <b> smoother, longer-horizon (like 21-day  or 63-day forward returns)</b>"
   ]
  },
  {
   "cell_type": "markdown",
   "id": "8bd770a9",
   "metadata": {},
   "source": [
    "* Concept :\n",
    "\n",
    "For each ticker :\n",
    "             \n",
    "             Target(t) = (P(t+h)-P(t))/P(t)\n",
    "\n",
    "        where h = 21 days ( app 1 month) or\n",
    "                  63 days ( 1 quarter)\n",
    "\n",
    "This forward-loooking target will :\n",
    "* reduce volatility in model labels\n",
    "* make model learning smoother\n",
    "* increase IC and stability of predictions"
   ]
  },
  {
   "cell_type": "code",
   "execution_count": 14,
   "id": "1b2b48be",
   "metadata": {},
   "outputs": [],
   "source": [
    "# Cell 1: Setup\n",
    "import pandas as pd\n",
    "import numpy as np\n",
    "from pathlib import Path\n",
    "import os\n",
    "\n",
    "PROJECT_ROOT = Path(r\"D:\\Portfolio Optimzation project\")\n",
    "ARTIFACTS_DIR = PROJECT_ROOT / \"artifacts\"\n",
    "os.makedirs(ARTIFACTS_DIR, exist_ok=True)\n",
    "\n",
    "FEATURE_FILE = ARTIFACTS_DIR / \"price_features.csv\"\n",
    "OUT_FILE = ARTIFACTS_DIR / \"training_data.csv\"\n",
    "\n",
    "# forward horizons\n",
    "FWD_HORIZON = 21   # 1 month = 21 trading days\n",
    "ALT_HORIZON = 63   # 3 months = 63 trading days\n"
   ]
  },
  {
   "cell_type": "code",
   "execution_count": 15,
   "id": "aabf7149",
   "metadata": {},
   "outputs": [
    {
     "name": "stdout",
     "output_type": "stream",
     "text": [
      "Loaded feature data: (1052842, 17)\n",
      "Columns: ['date', 'ticker', 'close_price', 'ret_1d', 'ret_5d', 'ret_21d', 'vol_21d', 'sma_10', 'sma_50', 'sma_20', 'sma_100', 'sma_ratio_10_50', 'sma_ratio_20_100', 'zscore_5d', 'rsi_14', 'log_vol', 'avg_vol_21d']\n"
     ]
    }
   ],
   "source": [
    "# Cell 2: Load and inspect features\n",
    "\n",
    "df = pd.read_csv(FEATURE_FILE, parse_dates=[\"date\"])\n",
    "df = df.sort_values([\"ticker\", \"date\"]).reset_index(drop=True)\n",
    "\n",
    "print(\"Loaded feature data:\", df.shape)\n",
    "print(\"Columns:\", list(df.columns))\n"
   ]
  },
  {
   "cell_type": "code",
   "execution_count": 16,
   "id": "d263e607",
   "metadata": {},
   "outputs": [
    {
     "name": "stdout",
     "output_type": "stream",
     "text": [
      "✅ Added target columns.\n"
     ]
    },
    {
     "data": {
      "text/html": [
       "<div>\n",
       "<style scoped>\n",
       "    .dataframe tbody tr th:only-of-type {\n",
       "        vertical-align: middle;\n",
       "    }\n",
       "\n",
       "    .dataframe tbody tr th {\n",
       "        vertical-align: top;\n",
       "    }\n",
       "\n",
       "    .dataframe thead th {\n",
       "        text-align: right;\n",
       "    }\n",
       "</style>\n",
       "<table border=\"1\" class=\"dataframe\">\n",
       "  <thead>\n",
       "    <tr style=\"text-align: right;\">\n",
       "      <th></th>\n",
       "      <th>ticker</th>\n",
       "      <th>date</th>\n",
       "      <th>target_21d</th>\n",
       "      <th>target_63d</th>\n",
       "    </tr>\n",
       "  </thead>\n",
       "  <tbody>\n",
       "    <tr>\n",
       "      <th>0</th>\n",
       "      <td>360ONE_DAILY</td>\n",
       "      <td>2015-03-03</td>\n",
       "      <td>-0.058228</td>\n",
       "      <td>-0.117300</td>\n",
       "    </tr>\n",
       "    <tr>\n",
       "      <th>1</th>\n",
       "      <td>360ONE_DAILY</td>\n",
       "      <td>2015-03-04</td>\n",
       "      <td>-0.014605</td>\n",
       "      <td>-0.106529</td>\n",
       "    </tr>\n",
       "    <tr>\n",
       "      <th>2</th>\n",
       "      <td>360ONE_DAILY</td>\n",
       "      <td>2015-03-05</td>\n",
       "      <td>0.014159</td>\n",
       "      <td>-0.055752</td>\n",
       "    </tr>\n",
       "    <tr>\n",
       "      <th>3</th>\n",
       "      <td>360ONE_DAILY</td>\n",
       "      <td>2015-03-09</td>\n",
       "      <td>0.014363</td>\n",
       "      <td>-0.039497</td>\n",
       "    </tr>\n",
       "    <tr>\n",
       "      <th>4</th>\n",
       "      <td>360ONE_DAILY</td>\n",
       "      <td>2015-03-10</td>\n",
       "      <td>0.023445</td>\n",
       "      <td>-0.068530</td>\n",
       "    </tr>\n",
       "    <tr>\n",
       "      <th>5</th>\n",
       "      <td>360ONE_DAILY</td>\n",
       "      <td>2015-03-11</td>\n",
       "      <td>0.013465</td>\n",
       "      <td>-0.079892</td>\n",
       "    </tr>\n",
       "    <tr>\n",
       "      <th>6</th>\n",
       "      <td>360ONE_DAILY</td>\n",
       "      <td>2015-03-12</td>\n",
       "      <td>0.004444</td>\n",
       "      <td>-0.087111</td>\n",
       "    </tr>\n",
       "    <tr>\n",
       "      <th>7</th>\n",
       "      <td>360ONE_DAILY</td>\n",
       "      <td>2015-03-13</td>\n",
       "      <td>0.017273</td>\n",
       "      <td>-0.063636</td>\n",
       "    </tr>\n",
       "    <tr>\n",
       "      <th>8</th>\n",
       "      <td>360ONE_DAILY</td>\n",
       "      <td>2015-03-16</td>\n",
       "      <td>-0.018919</td>\n",
       "      <td>-0.072072</td>\n",
       "    </tr>\n",
       "    <tr>\n",
       "      <th>9</th>\n",
       "      <td>360ONE_DAILY</td>\n",
       "      <td>2015-03-17</td>\n",
       "      <td>-0.024545</td>\n",
       "      <td>-0.062727</td>\n",
       "    </tr>\n",
       "  </tbody>\n",
       "</table>\n",
       "</div>"
      ],
      "text/plain": [
       "         ticker       date  target_21d  target_63d\n",
       "0  360ONE_DAILY 2015-03-03   -0.058228   -0.117300\n",
       "1  360ONE_DAILY 2015-03-04   -0.014605   -0.106529\n",
       "2  360ONE_DAILY 2015-03-05    0.014159   -0.055752\n",
       "3  360ONE_DAILY 2015-03-09    0.014363   -0.039497\n",
       "4  360ONE_DAILY 2015-03-10    0.023445   -0.068530\n",
       "5  360ONE_DAILY 2015-03-11    0.013465   -0.079892\n",
       "6  360ONE_DAILY 2015-03-12    0.004444   -0.087111\n",
       "7  360ONE_DAILY 2015-03-13    0.017273   -0.063636\n",
       "8  360ONE_DAILY 2015-03-16   -0.018919   -0.072072\n",
       "9  360ONE_DAILY 2015-03-17   -0.024545   -0.062727"
      ]
     },
     "execution_count": 16,
     "metadata": {},
     "output_type": "execute_result"
    }
   ],
   "source": [
    "# Cell 3: Compute 21D and 63D forward returns per ticker\n",
    "\n",
    "df[\"target_21d\"] = (\n",
    "    df.groupby(\"ticker\")[\"close_price\"].shift(-FWD_HORIZON) / df[\"close_price\"] - 1\n",
    ")\n",
    "\n",
    "df[\"target_63d\"] = (\n",
    "    df.groupby(\"ticker\")[\"close_price\"].shift(-ALT_HORIZON) / df[\"close_price\"] - 1\n",
    ")\n",
    "\n",
    "# Optional smoothing to reduce single-period outliers\n",
    "df[\"target_21d_smooth\"] = (\n",
    "    df.groupby(\"ticker\")[\"target_21d\"].transform(lambda x: x.rolling(3, min_periods=1).mean())\n",
    ")\n",
    "df[\"target_63d_smooth\"] = (\n",
    "    df.groupby(\"ticker\")[\"target_63d\"].transform(lambda x: x.rolling(3, min_periods=1).mean())\n",
    ")\n",
    "\n",
    "df = df.dropna(subset=[\"target_21d_smooth\"]).reset_index(drop=True)\n",
    "\n",
    "print(\"✅ Added target columns.\")\n",
    "df[[\"ticker\", \"date\", \"target_21d\", \"target_63d\"]].head(10)\n"
   ]
  },
  {
   "cell_type": "code",
   "execution_count": 18,
   "id": "22d3313f",
   "metadata": {},
   "outputs": [
    {
     "name": "stdout",
     "output_type": "stream",
     "text": [
      "✅ Saved target-enhanced feature file to: D:\\Portfolio Optimzation project\\artifacts\\training_data.csv\n",
      "Rows: 1043300\n"
     ]
    }
   ],
   "source": [
    "# Cell 4: Clean and save new target dataset\n",
    "\n",
    "# Remove extreme targets (top/bottom 1%)\n",
    "df[\"target_21d_smooth\"] = df[\"target_21d_smooth\"].clip(\n",
    "    lower=df[\"target_21d_smooth\"].quantile(0.01),\n",
    "    upper=df[\"target_21d_smooth\"].quantile(0.99)\n",
    ")\n",
    "\n",
    "df[\"target_63d_smooth\"] = df[\"target_63d_smooth\"].clip(\n",
    "    lower=df[\"target_63d_smooth\"].quantile(0.01),\n",
    "    upper=df[\"target_63d_smooth\"].quantile(0.99)\n",
    ")\n",
    "\n",
    "# Save to file\n",
    "df.to_csv(OUT_FILE, index=False)\n",
    "print(\"✅ Saved target-enhanced feature file to:\", OUT_FILE)\n",
    "print(\"Rows:\", df.shape[0])\n"
   ]
  },
  {
   "cell_type": "code",
   "execution_count": null,
   "id": "115c31c4",
   "metadata": {},
   "outputs": [
    {
     "name": "stdout",
     "output_type": "stream",
     "text": [
      "Target return summary (21D):\n",
      "count    1.043300e+06\n",
      "mean     2.005184e-02\n",
      "std      1.130593e-01\n",
      "min     -2.660028e-01\n",
      "5%      -1.489119e-01\n",
      "50%      1.077791e-02\n",
      "95%      2.207454e-01\n",
      "max      4.079847e-01\n",
      "Name: target_21d_smooth, dtype: float64\n",
      "\n",
      "Target return summary (63D):\n",
      "count    1.022426e+06\n",
      "mean     6.294295e-02\n",
      "std      2.195079e-01\n",
      "min     -4.154035e-01\n",
      "5%      -2.406442e-01\n",
      "50%      3.467997e-02\n",
      "95%      4.650197e-01\n",
      "max      8.837901e-01\n",
      "Name: target_63d_smooth, dtype: float64\n"
     ]
    },
    {
     "data": {
      "image/png": "[encoded data removed]",
      "text/plain": [
       "<Figure size 600x400 with 1 Axes>"
      ]
     },
     "metadata": {},
     "output_type": "display_data"
    }
   ],
   "source": [
    "# Cell 5: Verify target behavior\n",
    "\n",
    "print(\"Target return summary (21D):\")\n",
    "print(df[\"target_21d_smooth\"].describe(percentiles=[0.05, 0.5, 0.95]))\n",
    "\n",
    "print(\"\\nTarget return summary (63D):\")\n",
    "print(df[\"target_63d_smooth\"].describe(percentiles=[0.05, 0.5, 0.95]))\n",
    "\n",
    "# Histogram visualization \n",
    "import matplotlib.pyplot as plt\n",
    "plt.figure(figsize=(6,4))\n",
    "df[\"target_21d_smooth\"].hist(bins=50, color=\"skyblue\", edgecolor=\"black\")\n",
    "plt.title(\"Distribution of 21D Smoothed Forward Returns\")\n",
    "plt.xlabel(\"Forward Return\")\n",
    "plt.ylabel(\"Frequency\")\n",
    "plt.show()\n",
    "\n",
    "\n"
   ]
  },
  {
   "cell_type": "markdown",
   "id": "3fd07f16",
   "metadata": {},
   "source": [
    "Interpretation :"
   ]
  },
  {
   "cell_type": "markdown",
   "id": "8faa594a",
   "metadata": {},
   "source": [
    "| Metric                  | Meaning                                                                | Your Observation              |\n",
    "| ----------------------- | ---------------------------------------------------------------------- | ----------------------------- |\n",
    "| **Mean (≈ +2%)**        | The average 21-day return — mild upward drift (expected for equities). |  Reasonable                  |\n",
    "| **Std (≈ 11%)**         | Volatility of 21-day forward returns — moderate spread, not extreme.   |  Healthy range               |\n",
    "| **Range (-26% → +40%)** | Bounded — after clipping, avoids tail shocks.                          |  Cleaned                     |\n",
    "| **Shape (histogram)**   | Symmetric and smooth — bell-shaped with minor tails.                   |  Excellent for regression    |\n",
    "| **63D mean (≈ +6%)**    | Captures medium-term trends.                                           |  Good for testing robustness |\n"
   ]
  },
  {
   "cell_type": "markdown",
   "id": "155fc867",
   "metadata": {},
   "source": [
    "### Stage 6.3 -- Model Re-tuning(Re-fitting Alpha Model)"
   ]
  },
  {
   "cell_type": "markdown",
   "id": "136fa15f",
   "metadata": {},
   "source": [
    "Purpose :\n",
    "\n",
    "Improving the predictive quality of alpha model by retraining it on better-engineered features (from 6.1) and smoother targets (from 6.2)"
   ]
  },
  {
   "cell_type": "markdown",
   "id": "dc96d23c",
   "metadata": {},
   "source": [
    "| Step                        | Component                                                                                            | Description                                                                                                     | Why It Matters                                                             |\n",
    "| --------------------------- | ---------------------------------------------------------------------------------------------------- | --------------------------------------------------------------------------------------------------------------- | -------------------------------------------------------------------------- |\n",
    "| **1️. Data Input**          | Load `price_features_target.csv`                                                                     | This file has all the engineered factors (momentum, volatility, ratios, etc.) and new smoothed forward returns. | You’re using richer features and cleaner labels → more signal, less noise. |\n",
    "| **2️. Feature Selection**   | Pick relevant columns for ML                                                                         | Exclude metadata (`date`, `ticker`, etc.), use normalized numerical factors.                                    | Keeps your model learning only predictive features, not identifiers.       |\n",
    "| **3️. Model Choice**        | Use **RidgeCV** or **LassoCV**                                                                       | Regularized linear models are ideal for noisy financial data.                                                   | Prevents overfitting and keeps weights stable across time.                 |\n",
    "| **4️. Rolling Re-training** | Monthly rolling window                                                                               | Train model up to month *t*, predict alphas for month *t + 1*.                                                  | Mimics real-world rebalancing — avoids look-ahead bias.                    |\n",
    "| **5️. Cross-Validation**    | Built-in in RidgeCV/LassoCV                                                                          | Automatically selects optimal penalty (`alpha`).                                                                | Balances bias–variance trade-off.                                          |\n",
    "| **6️. Diagnostics**         | Compute **IC (Information Coefficient)** and **dispersion** per date.                                | IC tells you how predictive the model is; dispersion tells you if it differentiates between stocks.             |                                                                            |\n",
    "| **7️. Output**              | Save new `alpha_predictions.csv`, `ic_after_retraining.csv`, `alpha_dispersion_after_retraining.csv` | These feed directly into Stage 4 (optimizer) and Stage 5 (backtester).                                          | Keeps the entire pipeline modular.                                         |\n"
   ]
  },
  {
   "cell_type": "code",
   "execution_count": 31,
   "id": "e266d5b4",
   "metadata": {},
   "outputs": [],
   "source": [
    "# Cell 1: Setup & configuration\n",
    "import pandas as pd\n",
    "import numpy as np\n",
    "from pathlib import Path\n",
    "import os\n",
    "from sklearn.pipeline import Pipeline\n",
    "from sklearn.preprocessing import StandardScaler\n",
    "from sklearn.linear_model import RidgeCV, LassoCV\n",
    "from scipy.stats import spearmanr\n",
    "\n",
    "PROJECT_ROOT = Path(r\"D:\\Portfolio Optimzation project\")\n",
    "ARTIFACTS_DIR = PROJECT_ROOT / \"artifacts\"\n",
    "RESULTS_DIR = PROJECT_ROOT / \"results\" / \"diagnostics\"\n",
    "os.makedirs(ARTIFACTS_DIR, exist_ok=True)\n",
    "os.makedirs(RESULTS_DIR, exist_ok=True)\n",
    "\n",
    "FEATURE_FILE = ARTIFACTS_DIR / \"training_data.csv\"   # produced earlier\n",
    "OUT_ALPHA = ARTIFACTS_DIR / \"alpha_predictions.csv\"\n",
    "OUT_IC = RESULTS_DIR / \"ic_after_retraining.csv\"\n",
    "OUT_DISP = RESULTS_DIR / \"alpha_dispersion_after_retraining.csv\"\n",
    "\n",
    "# Modeling choices\n",
    "MODEL_TYPE = \"ridge\"   # \"ridge\" or \"lasso\"\n",
    "FWD_COL = \"target_21d_smooth\"   # which target to use: 21d smoothed (or target_63d_smooth)\n",
    "REB_FREQ = \"M\"          # monthly rebalance\n",
    "MIN_TICKERS = 30        # skip rebalance if too few tickers\n",
    "PRINT_EVERY = 10\n",
    "\n",
    "# CV grids\n",
    "RIDGE_ALPHAS = np.logspace(-4, 3, 20)\n",
    "LASSO_ALPHAS = np.logspace(-5, -1, 20)\n"
   ]
  },
  {
   "cell_type": "code",
   "execution_count": 32,
   "id": "c6cf342f",
   "metadata": {},
   "outputs": [
    {
     "name": "stdout",
     "output_type": "stream",
     "text": [
      "Loaded rows: 1043300 unique dates: 2552 unique tickers: 497\n",
      "Using feature columns: ['ret_1d', 'ret_5d', 'ret_21d', 'vol_21d', 'sma_10', 'sma_50', 'sma_20', 'sma_100', 'sma_ratio_10_50', 'sma_ratio_20_100', 'zscore_5d', 'rsi_14', 'log_vol', 'avg_vol_21d']\n"
     ]
    }
   ],
   "source": [
    "# Cell 2: Load feature+target dataset and prepare columns\n",
    "df = pd.read_csv(FEATURE_FILE, parse_dates=[\"date\"])\n",
    "df[\"date\"] = pd.to_datetime(df[\"date\"]).dt.tz_localize(None)\n",
    "df = df.sort_values([\"date\",\"ticker\"]).reset_index(drop=True)\n",
    "\n",
    "# Remove rows with NaNs in target\n",
    "df = df.dropna(subset=[FWD_COL]).reset_index(drop=True)\n",
    "print(\"Loaded rows:\", len(df), \"unique dates:\", df['date'].nunique(), \"unique tickers:\", df['ticker'].nunique())\n",
    "\n",
    "# Build candidate feature list (exclude meta + target)\n",
    "meta_cols = {\"date\",\"ticker\",\"close_price\", \"target_21d\", \"target_63d\", \"target_21d_smooth\", \"target_63d_smooth\"}\n",
    "feature_cols = [c for c in df.columns if c not in meta_cols and not c.startswith(\"target_\")]\n",
    "print(\"Using feature columns:\", feature_cols)\n"
   ]
  },
  {
   "cell_type": "code",
   "execution_count": 34,
   "id": "9697859a",
   "metadata": {},
   "outputs": [
    {
     "name": "stdout",
     "output_type": "stream",
     "text": [
      " ret_1d has invalid values.\n",
      " ret_5d has invalid values.\n",
      " ret_21d has invalid values.\n",
      " vol_21d has invalid values.\n",
      " sma_50 has invalid values.\n",
      " sma_100 has invalid values.\n",
      " sma_ratio_10_50 has invalid values.\n",
      " sma_ratio_20_100 has invalid values.\n",
      " zscore_5d has invalid values.\n",
      " log_vol has invalid values.\n",
      " avg_vol_21d has invalid values.\n"
     ]
    }
   ],
   "source": [
    "# Problematic features\n",
    "# Check columns with any inf or NaN\n",
    "for c in feature_cols:\n",
    "    if not np.isfinite(df[c]).all():\n",
    "        print(f\" {c} has invalid values.\")"
   ]
  },
  {
   "cell_type": "code",
   "execution_count": 36,
   "id": "0c173cce",
   "metadata": {},
   "outputs": [
    {
     "name": "stdout",
     "output_type": "stream",
     "text": [
      "Cleaned dataset: 1,004,441 rows remaining after removing infinities and outliers.\n"
     ]
    }
   ],
   "source": [
    "# Cleaning step: drop rows with NaNs in features\n",
    "#  Fix Step: Clean feature matrix before training\n",
    "df.replace([np.inf, -np.inf], np.nan, inplace=True)\n",
    "\n",
    "# Drop rows that are completely invalid\n",
    "df = df.dropna(subset=feature_cols + [FWD_COL], how=\"any\")\n",
    "\n",
    "# Optional: clip extreme feature values (prevent blow-ups)\n",
    "df[feature_cols] = df[feature_cols].clip(lower=-10, upper=10)\n",
    "\n",
    "print(f\"Cleaned dataset: {len(df):,} rows remaining after removing infinities and outliers.\")\n"
   ]
  },
  {
   "cell_type": "code",
   "execution_count": 37,
   "id": "ba86914a",
   "metadata": {},
   "outputs": [
    {
     "name": "stdout",
     "output_type": "stream",
     "text": [
      "Trained/predicted for 2017-03-01 | n=350 | IC=0.0592 | disp=0.0142\n",
      "Trained/predicted for 2018-01-01 | n=359 | IC=0.0102 | disp=0.0113\n",
      "Trained/predicted for 2018-11-01 | n=379 | IC=0.1755 | disp=0.0156\n",
      "Trained/predicted for 2020-07-01 | n=402 | IC=0.0900 | disp=0.0143\n",
      "Trained/predicted for 2023-11-01 | n=457 | IC=0.1920 | disp=0.0153\n",
      "Trained/predicted for 2025-07-01 | n=496 | IC=0.0199 | disp=0.0155\n",
      "Saved alpha predictions to: D:\\Portfolio Optimzation project\\artifacts\\alpha_predictions.csv rows: 32025\n",
      "Saved IC and dispersion diagnostics.\n"
     ]
    }
   ],
   "source": [
    "# Cell 3: Rolling train/predict\n",
    "dates = pd.Series(sorted(df['date'].unique()))\n",
    "# take last date in each period\n",
    "rebalance_dates = (\n",
    "    dates.groupby(dates.dt.to_period(REB_FREQ))\n",
    "    .last()\n",
    "    .index.to_timestamp()     \n",
    "    .tolist()\n",
    ")\n",
    "\n",
    "# tz-naive\n",
    "rebalance_dates = [pd.to_datetime(d).tz_localize(None) for d in rebalance_dates]\n",
    "\n",
    "preds = []\n",
    "ic_records = []\n",
    "disp_records = []\n",
    "\n",
    "for i in range(len(rebalance_dates)-1):\n",
    "    train_end = rebalance_dates[i]            # train up to and including this date\n",
    "    predict_date = rebalance_dates[i+1]       # predict for this period (next period)\n",
    "    train_mask = df['date'] <= train_end\n",
    "    test_mask  = df['date'] == predict_date\n",
    "\n",
    "    train_df = df.loc[train_mask].copy()\n",
    "    test_df = df.loc[test_mask].copy()\n",
    "\n",
    "    if train_df.empty or test_df.empty:\n",
    "        continue\n",
    "    # optional: filter tickers with insufficient history (skip if too few)\n",
    "    if test_df['ticker'].nunique() < MIN_TICKERS:\n",
    "        continue\n",
    "\n",
    "    X_train = train_df[feature_cols].values\n",
    "    y_train = train_df[FWD_COL].values\n",
    "    X_test  = test_df[feature_cols].values\n",
    "\n",
    "    if MODEL_TYPE == \"ridge\":\n",
    "        model = Pipeline([\n",
    "    (\"scaler\", StandardScaler()),\n",
    "    (\"reg\", RidgeCV(alphas=RIDGE_ALPHAS, cv=5))\n",
    "])\n",
    "\n",
    "    else:\n",
    "        model = Pipeline([(\"scaler\", StandardScaler()),\n",
    "                          (\"reg\", LassoCV(alphas=LASSO_ALPHAS, cv=5, max_iter=5000))])\n",
    "\n",
    "    try:\n",
    "        model.fit(X_train, y_train)\n",
    "    except Exception as e:\n",
    "        print(f\"Train failed for {predict_date.date()}: {e}\")\n",
    "        continue\n",
    "\n",
    "    y_pred = model.predict(X_test)\n",
    "    tmp = test_df[[\"date\",\"ticker\"]].copy()\n",
    "    tmp[\"predicted_return\"] = y_pred\n",
    "    preds.append(tmp)\n",
    "\n",
    "    # diagnostics for this date: compute IC and dispersion\n",
    "    # we need realized forward returns aligned: use original target column (the target is forward from the date)\n",
    "    merged_for_ic = test_df.merge(tmp, on=[\"date\",\"ticker\"], how=\"inner\")\n",
    "    if merged_for_ic.shape[0] >= 5:\n",
    "        ic, _ = spearmanr(merged_for_ic[\"predicted_return\"], merged_for_ic[FWD_COL])\n",
    "    else:\n",
    "        ic = np.nan\n",
    "    disp = merged_for_ic[\"predicted_return\"].std()\n",
    "    ic_records.append({\"date\": predict_date, \"IC\": ic, \"n\": merged_for_ic.shape[0]})\n",
    "    disp_records.append({\"date\": predict_date, \"dispersion\": disp})\n",
    "\n",
    "    if i % PRINT_EVERY == 0:\n",
    "        print(f\"Trained/predicted for {predict_date.date()} | n={merged_for_ic.shape[0]} | IC={ic:.4f} | disp={disp:.4f}\")\n",
    "\n",
    "# consolidate\n",
    "if not preds:\n",
    "    raise RuntimeError(\"No predictions produced. Check data and date alignment.\")\n",
    "\n",
    "alpha_df = pd.concat(preds, ignore_index=True)\n",
    "alpha_df.to_csv(OUT_ALPHA, index=False)\n",
    "print(\"Saved alpha predictions to:\", OUT_ALPHA, \"rows:\", len(alpha_df))\n",
    "\n",
    "ic_df = pd.DataFrame(ic_records).sort_values(\"date\").reset_index(drop=True)\n",
    "disp_df = pd.DataFrame(disp_records).sort_values(\"date\").reset_index(drop=True)\n",
    "\n",
    "ic_df.to_csv(OUT_IC, index=False)\n",
    "disp_df.to_csv(OUT_DISP, index=False)\n",
    "print(\"Saved IC and dispersion diagnostics.\")\n"
   ]
  },
  {
   "cell_type": "markdown",
   "id": "8f809324",
   "metadata": {},
   "source": [
    "### Stage 6.4 -- Verify and Rebuild Alpha predictions"
   ]
  },
  {
   "cell_type": "code",
   "execution_count": 42,
   "id": "fa99f547",
   "metadata": {},
   "outputs": [
    {
     "name": "stdout",
     "output_type": "stream",
     "text": [
      " Alpha file loaded successfully\n",
      "Rows: 32,025\n",
      "Unique dates: 79 | Unique tickers: 497\n",
      "\n",
      " Date range:\n",
      "From 2015-09-01 to 2025-07-01\n",
      "\n",
      " Sample:\n"
     ]
    },
    {
     "data": {
      "text/html": [
       "<div>\n",
       "<style scoped>\n",
       "    .dataframe tbody tr th:only-of-type {\n",
       "        vertical-align: middle;\n",
       "    }\n",
       "\n",
       "    .dataframe tbody tr th {\n",
       "        vertical-align: top;\n",
       "    }\n",
       "\n",
       "    .dataframe thead th {\n",
       "        text-align: right;\n",
       "    }\n",
       "</style>\n",
       "<table border=\"1\" class=\"dataframe\">\n",
       "  <thead>\n",
       "    <tr style=\"text-align: right;\">\n",
       "      <th></th>\n",
       "      <th>date</th>\n",
       "      <th>ticker</th>\n",
       "      <th>predicted_return</th>\n",
       "    </tr>\n",
       "  </thead>\n",
       "  <tbody>\n",
       "    <tr>\n",
       "      <th>0</th>\n",
       "      <td>2015-09-01</td>\n",
       "      <td>360ONE_DAILY</td>\n",
       "      <td>0.006329</td>\n",
       "    </tr>\n",
       "    <tr>\n",
       "      <th>1</th>\n",
       "      <td>2015-09-01</td>\n",
       "      <td>3MINDIA_DAILY</td>\n",
       "      <td>0.013560</td>\n",
       "    </tr>\n",
       "    <tr>\n",
       "      <th>2</th>\n",
       "      <td>2015-09-01</td>\n",
       "      <td>AARTIIND_DAILY</td>\n",
       "      <td>0.010655</td>\n",
       "    </tr>\n",
       "    <tr>\n",
       "      <th>3</th>\n",
       "      <td>2015-09-01</td>\n",
       "      <td>ABBOTINDIA_DAILY</td>\n",
       "      <td>0.013664</td>\n",
       "    </tr>\n",
       "    <tr>\n",
       "      <th>4</th>\n",
       "      <td>2015-09-01</td>\n",
       "      <td>ABB_DAILY</td>\n",
       "      <td>0.005113</td>\n",
       "    </tr>\n",
       "    <tr>\n",
       "      <th>5</th>\n",
       "      <td>2015-09-01</td>\n",
       "      <td>ABFRL_DAILY</td>\n",
       "      <td>0.007691</td>\n",
       "    </tr>\n",
       "    <tr>\n",
       "      <th>6</th>\n",
       "      <td>2015-09-01</td>\n",
       "      <td>ABREL_DAILY</td>\n",
       "      <td>0.009223</td>\n",
       "    </tr>\n",
       "    <tr>\n",
       "      <th>7</th>\n",
       "      <td>2015-09-01</td>\n",
       "      <td>ACC_DAILY</td>\n",
       "      <td>-0.002262</td>\n",
       "    </tr>\n",
       "    <tr>\n",
       "      <th>8</th>\n",
       "      <td>2015-09-01</td>\n",
       "      <td>ACE_DAILY</td>\n",
       "      <td>0.028545</td>\n",
       "    </tr>\n",
       "    <tr>\n",
       "      <th>9</th>\n",
       "      <td>2015-09-01</td>\n",
       "      <td>ADANIENT_DAILY</td>\n",
       "      <td>0.037820</td>\n",
       "    </tr>\n",
       "  </tbody>\n",
       "</table>\n",
       "</div>"
      ],
      "text/plain": [
       "        date            ticker  predicted_return\n",
       "0 2015-09-01      360ONE_DAILY          0.006329\n",
       "1 2015-09-01     3MINDIA_DAILY          0.013560\n",
       "2 2015-09-01    AARTIIND_DAILY          0.010655\n",
       "3 2015-09-01  ABBOTINDIA_DAILY          0.013664\n",
       "4 2015-09-01         ABB_DAILY          0.005113\n",
       "5 2015-09-01       ABFRL_DAILY          0.007691\n",
       "6 2015-09-01       ABREL_DAILY          0.009223\n",
       "7 2015-09-01         ACC_DAILY         -0.002262\n",
       "8 2015-09-01         ACE_DAILY          0.028545\n",
       "9 2015-09-01    ADANIENT_DAILY          0.037820"
      ]
     },
     "metadata": {},
     "output_type": "display_data"
    },
    {
     "name": "stdout",
     "output_type": "stream",
     "text": [
      "\n",
      " Summary stats of predicted returns:\n",
      "count    32025.000000\n",
      "mean         0.019098\n",
      "std          0.023016\n",
      "min         -2.518626\n",
      "1%          -0.020398\n",
      "5%          -0.008964\n",
      "50%          0.019373\n",
      "95%          0.047038\n",
      "99%          0.060116\n",
      "max          0.515758\n",
      "Name: predicted_return, dtype: float64\n",
      "\n",
      " Invalid values check:\n",
      "NaN: 0 | Infinite: 0 | Zeros: 0\n",
      "\n",
      "Average dispersion across dates: 0.0166\n"
     ]
    }
   ],
   "source": [
    "import pandas as pd\n",
    "import numpy as np\n",
    "from pathlib import Path\n",
    "\n",
    "# === CONFIG ===\n",
    "PROJECT_ROOT = Path(r\"D:\\Portfolio Optimzation project\")\n",
    "ALPHA_FILE = PROJECT_ROOT / \"artifacts\" / \"alpha_predictions.csv\"\n",
    "\n",
    "# === LOAD ALPHAS ===\n",
    "alpha = pd.read_csv(ALPHA_FILE)\n",
    "alpha[\"date\"] = pd.to_datetime(alpha[\"date\"])\n",
    "alpha = alpha.sort_values([\"date\", \"ticker\"]).reset_index(drop=True)\n",
    "\n",
    "# === QUICK CHECKS ===\n",
    "print(\" Alpha file loaded successfully\")\n",
    "print(f\"Rows: {len(alpha):,}\")\n",
    "print(f\"Unique dates: {alpha['date'].nunique()} | Unique tickers: {alpha['ticker'].nunique()}\")\n",
    "\n",
    "print(\"\\n Date range:\")\n",
    "print(f\"From {alpha['date'].min().date()} to {alpha['date'].max().date()}\")\n",
    "\n",
    "print(\"\\n Sample:\")\n",
    "display(alpha.head(10))\n",
    "\n",
    "# === VALUE CHECKS ===\n",
    "print(\"\\n Summary stats of predicted returns:\")\n",
    "print(alpha[\"predicted_return\"].describe(percentiles=[0.01, 0.05, 0.5, 0.95, 0.99]))\n",
    "\n",
    "# Check for invalids\n",
    "print(\"\\n Invalid values check:\")\n",
    "print(f\"NaN: {alpha['predicted_return'].isna().sum()} | \"\n",
    "      f\"Infinite: {np.isinf(alpha['predicted_return']).sum()} | \"\n",
    "      f\"Zeros: {(alpha['predicted_return'] == 0).sum()}\")\n",
    "\n",
    "# Optional sanity check: dispersion per date\n",
    "disp = alpha.groupby(\"date\")[\"predicted_return\"].std()\n",
    "print(f\"\\nAverage dispersion across dates: {disp.mean():.4f}\")\n"
   ]
  },
  {
   "cell_type": "markdown",
   "id": "bfc2cf0e",
   "metadata": {},
   "source": [
    "Interpretation"
   ]
  },
  {
   "cell_type": "markdown",
   "id": "9871a9e1",
   "metadata": {},
   "source": [
    "1. Dataset Integrity"
   ]
  },
  {
   "cell_type": "markdown",
   "id": "b86c58fb",
   "metadata": {},
   "source": [
    "| Metric         | Result                  | Interpretation                                            |\n",
    "| :------------- | :---------------------- | :-------------------------------------------------------- |\n",
    "| Rows           | **32,025**              |  Perfect scale — 79 months × ~400–500 tickers per month. |\n",
    "| Unique Dates   | **79**                  |  Consistent with monthly rebalancing over ~10 years.     |\n",
    "| Unique Tickers | **497**                 |  Matches your universe of stocks.                        |\n",
    "| Date Range     | 2015-09-01 → 2025-07-01 |  Full backtest horizon intact.                           |\n"
   ]
  },
  {
   "cell_type": "markdown",
   "id": "8056d007",
   "metadata": {},
   "source": [
    "2. Predicted Return Distribution"
   ]
  },
  {
   "cell_type": "markdown",
   "id": "437521fd",
   "metadata": {},
   "source": [
    "| Stat         | Value         | What It Means                                             |\n",
    "| :----------- | :------------ | :-------------------------------------------------------- |\n",
    "| Mean         | 0.019         | Model expects ~1.9% monthly return for top signals.       |\n",
    "| Std Dev      | 0.023         | Tight, realistic spread — consistent with 21-day horizon. |\n",
    "| Min / Max    | -2.51 → +0.51 | Occasional outliers — but model not exploding.            |\n",
    "| Median (50%) | 0.019         | Balanced, no bias.                                        |\n",
    "| Dispersion   | 0.0166        | Stable; model differentiates stocks moderately.           |\n"
   ]
  },
  {
   "cell_type": "markdown",
   "id": "e871f825",
   "metadata": {},
   "source": [
    "### Stage 6.5 -- Re-run IC and Dispersion diagnostics"
   ]
  },
  {
   "cell_type": "markdown",
   "id": "172ffb6c",
   "metadata": {},
   "source": [
    "Purpose :\n",
    "\n",
    " Why we are doing this?\n",
    "\n",
    "Our alpha model has improved statistically (mean IC ≈ 0.13).\n",
    "Now we need to visualize and verify that this predictive power is consistent:\n",
    "\n",
    "* across time (monthly IC trend),\n",
    " \n",
    "* across stocks (broad coverage),\n",
    " \n",
    "* and with healthy dispersion (not flat predictions).\n",
    "\n",
    "This ensures our model is genuinely learning predictive structure — not random noise or overfitting."
   ]
  },
  {
   "cell_type": "markdown",
   "id": "60372cb1",
   "metadata": {},
   "source": [
    "Cell 1 – Load Predictions and Actual Returns"
   ]
  },
  {
   "cell_type": "code",
   "execution_count": 44,
   "id": "1189dc3e",
   "metadata": {},
   "outputs": [
    {
     "name": "stdout",
     "output_type": "stream",
     "text": [
      "✅ Merged data: 32,025 rows | 79 unique dates\n"
     ]
    }
   ],
   "source": [
    "import pandas as pd\n",
    "import numpy as np\n",
    "import matplotlib.pyplot as plt\n",
    "import seaborn as sns\n",
    "from pathlib import Path\n",
    "\n",
    "PROJECT_ROOT = Path(r\"D:\\Portfolio Optimzation project\")\n",
    "\n",
    "# Load alpha predictions (model output)\n",
    "alpha = pd.read_csv(PROJECT_ROOT / \"artifacts\" / \"alpha_predictions.csv\")\n",
    "alpha[\"date\"] = pd.to_datetime(alpha[\"date\"])\n",
    "\n",
    "# Load actual forward returns (target from your processed data)\n",
    "# Assuming you saved them during feature/target engineering stage\n",
    "returns = pd.read_csv(PROJECT_ROOT / \"artifacts\" / \"training_data.csv\")\n",
    "returns[\"date\"] = pd.to_datetime(returns[\"date\"])\n",
    "\n",
    "# Merge to align predicted vs realized\n",
    "df = pd.merge(alpha, returns[[\"date\", \"ticker\", \"target_21d_smooth\"]], on=[\"date\", \"ticker\"], how=\"inner\")\n",
    "\n",
    "df = df.dropna(subset=[\"predicted_return\", \"target_21d_smooth\"]).copy()\n",
    "print(f\"✅ Merged data: {len(df):,} rows | {df['date'].nunique()} unique dates\")\n"
   ]
  },
  {
   "cell_type": "markdown",
   "id": "5b399fb7",
   "metadata": {},
   "source": [
    "Cell 2 – Compute IC and Dispersion per Date"
   ]
  },
  {
   "cell_type": "code",
   "execution_count": 45,
   "id": "774d9986",
   "metadata": {},
   "outputs": [
    {
     "name": "stdout",
     "output_type": "stream",
     "text": [
      "IC summary:\n",
      "count    79.000000\n",
      "mean      0.131389\n",
      "std       0.106255\n",
      "min      -0.164205\n",
      "25%       0.061220\n",
      "50%       0.139544\n",
      "75%       0.193971\n",
      "max       0.430906\n",
      "Name: IC, dtype: float64\n",
      "\n",
      "Dispersion summary:\n",
      "count    79.000000\n",
      "mean      0.016617\n",
      "std       0.014516\n",
      "min       0.010695\n",
      "25%       0.013514\n",
      "50%       0.014899\n",
      "75%       0.015886\n",
      "max       0.141409\n",
      "Name: Dispersion, dtype: float64\n",
      "\n",
      "Mean IC: 0.1314 | Positive IC%: 89.9% | Mean dispersion: 0.0166\n"
     ]
    }
   ],
   "source": [
    "from scipy.stats import spearmanr\n",
    "\n",
    "ics, dispersions = [], []\n",
    "for dt, grp in df.groupby(\"date\"):\n",
    "    if grp[\"predicted_return\"].std() == 0:\n",
    "        continue\n",
    "    ic, _ = spearmanr(grp[\"predicted_return\"], grp[\"target_21d_smooth\"])\n",
    "    ics.append({\"date\": dt, \"IC\": ic})\n",
    "    dispersions.append({\"date\": dt, \"Dispersion\": grp[\"predicted_return\"].std()})\n",
    "\n",
    "ic_df = pd.DataFrame(ics)\n",
    "disp_df = pd.DataFrame(dispersions)\n",
    "merged_diag = ic_df.merge(disp_df, on=\"date\")\n",
    "merged_diag = merged_diag.sort_values(\"date\").reset_index(drop=True)\n",
    "\n",
    "print(\"IC summary:\")\n",
    "print(merged_diag[\"IC\"].describe())\n",
    "print(\"\\nDispersion summary:\")\n",
    "print(merged_diag[\"Dispersion\"].describe())\n",
    "\n",
    "mean_ic = merged_diag[\"IC\"].mean()\n",
    "pos_ic_pct = (merged_diag[\"IC\"] > 0).mean() * 100\n",
    "print(f\"\\nMean IC: {mean_ic:.4f} | Positive IC%: {pos_ic_pct:.1f}% | Mean dispersion: {merged_diag['Dispersion'].mean():.4f}\")\n"
   ]
  },
  {
   "cell_type": "markdown",
   "id": "4e719e76",
   "metadata": {},
   "source": [
    "Cell 3 – Plot IC and Dispersion Over Time"
   ]
  },
  {
   "cell_type": "code",
   "execution_count": 46,
   "id": "6cd33e56",
   "metadata": {},
   "outputs": [
    {
     "data": {
      "image/png": "[encoded data removed]",
      "text/plain": [
       "<Figure size 1200x400 with 2 Axes>"
      ]
     },
     "metadata": {},
     "output_type": "display_data"
    }
   ],
   "source": [
    "fig, ax1 = plt.subplots(figsize=(12, 4))\n",
    "ax1.plot(merged_diag[\"date\"], merged_diag[\"IC\"], label=\"IC\", color=\"tab:blue\")\n",
    "ax1.axhline(0, color=\"black\", linestyle=\"--\", linewidth=1)\n",
    "ax1.set_ylabel(\"Information Coefficient (IC)\")\n",
    "ax1.set_title(\"IC and Dispersion Over Time\")\n",
    "\n",
    "ax2 = ax1.twinx()\n",
    "ax2.plot(merged_diag[\"date\"], merged_diag[\"Dispersion\"], color=\"tab:orange\", label=\"Dispersion (std)\")\n",
    "ax2.set_ylabel(\"Dispersion\")\n",
    "\n",
    "ax1.legend(loc=\"upper left\")\n",
    "ax2.legend(loc=\"upper right\")\n",
    "plt.show()\n"
   ]
  },
  {
   "cell_type": "markdown",
   "id": "9330b558",
   "metadata": {},
   "source": [
    "Cell 4 – IC Heatmap (Stability Check)"
   ]
  },
  {
   "cell_type": "code",
   "execution_count": 48,
   "id": "73f8b55a",
   "metadata": {},
   "outputs": [
    {
     "data": {
      "image/png": "[encoded data removed]",
      "text/plain": [
       "<Figure size 1000x600 with 2 Axes>"
      ]
     },
     "metadata": {},
     "output_type": "display_data"
    }
   ],
   "source": [
    "# Make a copy of your merged DataFrame\n",
    "pivot_ic = merged_diag.copy()\n",
    "\n",
    "# Extract year and month from the date column\n",
    "pivot_ic[\"Year\"] = pivot_ic[\"date\"].dt.year\n",
    "pivot_ic[\"Month\"] = pivot_ic[\"date\"].dt.month\n",
    "\n",
    "# Pivot the data correctly using keyword arguments\n",
    "heatmap_data = pivot_ic.pivot(index=\"Year\", columns=\"Month\", values=\"IC\")\n",
    "\n",
    "# Plot the heatmap\n",
    "plt.figure(figsize=(10, 6))\n",
    "sns.heatmap(\n",
    "    heatmap_data,\n",
    "    annot=True,\n",
    "    fmt=\".2f\",\n",
    "    cmap=\"coolwarm\",\n",
    "    center=0\n",
    ")\n",
    "plt.title(\"Monthly IC Heatmap\")\n",
    "plt.show()\n"
   ]
  },
  {
   "cell_type": "markdown",
   "id": "be792fb1",
   "metadata": {},
   "source": [
    "Cell 5 – Decile Test (Economic Validation)"
   ]
  },
  {
   "cell_type": "code",
   "execution_count": 49,
   "id": "5bbaabcf",
   "metadata": {},
   "outputs": [
    {
     "data": {
      "image/png": "[encoded data removed]",
      "text/plain": [
       "<Figure size 800x400 with 1 Axes>"
      ]
     },
     "metadata": {},
     "output_type": "display_data"
    },
    {
     "name": "stdout",
     "output_type": "stream",
     "text": [
      "\n",
      "Top vs Bottom Decile Spread:\n",
      "0.0524 average excess return between top and bottom decile.\n"
     ]
    }
   ],
   "source": [
    "df[\"decile\"] = df.groupby(\"date\")[\"predicted_return\"].transform(\n",
    "    lambda x: pd.qcut(x, 10, labels=False, duplicates=\"drop\")\n",
    ")\n",
    "\n",
    "decile_perf = (\n",
    "    df.groupby(\"decile\")[\"target_21d_smooth\"].mean().sort_index()\n",
    ")\n",
    "\n",
    "plt.figure(figsize=(8, 4))\n",
    "decile_perf.plot(kind=\"bar\", color=\"skyblue\", edgecolor=\"black\")\n",
    "plt.title(\"Average Realized Return by Alpha Decile\")\n",
    "plt.xlabel(\"Predicted Return Decile (Low → High)\")\n",
    "plt.ylabel(\"Mean 21D Realized Return\")\n",
    "plt.show()\n",
    "\n",
    "print(\"\\nTop vs Bottom Decile Spread:\")\n",
    "spread = decile_perf.iloc[-1] - decile_perf.iloc[0]\n",
    "print(f\"{spread:.4f} average excess return between top and bottom decile.\")\n"
   ]
  },
  {
   "cell_type": "markdown",
   "id": "14d3b82a",
   "metadata": {},
   "source": [
    "IC and Dispersion Summary - Interpretation"
   ]
  },
  {
   "cell_type": "markdown",
   "id": "0e0d37f5",
   "metadata": {},
   "source": [
    "| Metric                         | Value                                                                     | What It Means                                                                        |\n",
    "| :----------------------------- | :------------------------------------------------------------------------ | :----------------------------------------------------------------------------------- |\n",
    "| **Mean IC**                    | **0.1314**                                                                |  Very strong predictive power (institutional-grade signals typically 0.05–0.15).    |\n",
    "| **Positive IC %**              | **~90 %**                                                                 |  Excellent stability — most months, model predicts the right rank order of returns. |\n",
    "| **Dispersion (mean = 0.0166)** |  Healthy — your predictions vary enough to separate good vs. bad stocks. |                                                                                      |\n",
    "| **Max IC = 0.43**              |  Some months, your model’s alpha was extremely predictive.               |                                                                                      |\n"
   ]
  },
  {
   "cell_type": "markdown",
   "id": "aaba920f",
   "metadata": {},
   "source": [
    "Decile Test - Economic Validation"
   ]
  },
  {
   "cell_type": "markdown",
   "id": "55e70ba2",
   "metadata": {},
   "source": [
    "| Observation                     | Interpretation                                            |\n",
    "| :------------------------------ | :-------------------------------------------------------- |\n",
    "| Low-decile stocks ≈ 0 % return  | Model successfully avoids losers.                         |\n",
    "| High-decile stocks ≈ 5 % return | Model consistently identifies winners.                    |\n",
    "| Smooth slope                    |  Predictive consistency — not random noise.              |\n",
    "| Top–bottom decile spread ≈ 5 %  |  Strong economic edge if captured via portfolio weights. |\n"
   ]
  },
  {
   "cell_type": "markdown",
   "id": "f7dc4d55",
   "metadata": {},
   "source": [
    "### Stage 6.6 -- Portfolio Re-optimization and Backtesting"
   ]
  },
  {
   "cell_type": "markdown",
   "id": "6775d05c",
   "metadata": {},
   "source": [
    "Cell 1 - Setup"
   ]
  },
  {
   "cell_type": "code",
   "execution_count": 50,
   "id": "c29d4efb",
   "metadata": {},
   "outputs": [
    {
     "name": "stdout",
     "output_type": "stream",
     "text": [
      "✅ Environment ready.\n"
     ]
    }
   ],
   "source": [
    "# Cell 1: Setup for Stage 6.6\n",
    "from pathlib import Path\n",
    "import os\n",
    "import pandas as pd\n",
    "\n",
    "# project root\n",
    "PROJECT_ROOT = Path(r\"D:\\Portfolio Optimzation project\")\n",
    "\n",
    "# Input artifacts (retrained alpha)\n",
    "ALPHA_FILE = PROJECT_ROOT / \"artifacts\" / \"alpha_predictions.csv\"\n",
    "VOL_FILE = PROJECT_ROOT / \"results\" / \"volatility_matrix.csv\"\n",
    "FACTORS_FILE = PROJECT_ROOT / \"results\" / \"factors\" / \"price_factors.csv\"\n",
    "\n",
    "# Optimizer script (Stage 4)\n",
    "OPTIMIZER_SCRIPT = PROJECT_ROOT / \"scripts\" / \"portfolio_optimizer.py\"\n",
    "\n",
    "# Run directory setup\n",
    "os.chdir(PROJECT_ROOT)\n",
    "print(\"✅ Environment ready.\")\n"
   ]
  },
  {
   "cell_type": "markdown",
   "id": "7cc1c9dd",
   "metadata": {},
   "source": [
    "Cell 2 - Run the Optimizer Again"
   ]
  },
  {
   "cell_type": "code",
   "execution_count": 51,
   "id": "e5989efd",
   "metadata": {},
   "outputs": [
    {
     "name": "stdout",
     "output_type": "stream",
     "text": [
      "🚀 Running portfolio optimizer with retrained alpha...\n",
      "\n",
      "2025-10-23 22:38:10,919 INFO Starting portfolio optimizer (TOP_N=50, cap=0.1, long-only=True)\n",
      "2025-10-23 22:38:20,726 INFO Date 2015-09-01 00:00:00: 50 assets. MVO_sharpe=0.418130 (tc=0.000500), MinVar_sharpe=0.405017 (tc=0.000500)\n",
      "2025-10-23 22:38:20,944 INFO Date 2015-10-01 00:00:00: 50 assets. MVO_sharpe=0.143089 (tc=0.000449), MinVar_sharpe=0.134920 (tc=0.000440)\n",
      "2025-10-23 22:38:21,174 INFO Date 2015-12-01 00:00:00: 50 assets. MVO_sharpe=0.321188 (tc=0.000474), MinVar_sharpe=0.291197 (tc=0.000450)\n",
      "2025-10-23 22:38:21,398 INFO Date 2016-02-01 00:00:00: 50 assets. MVO_sharpe=0.298981 (tc=0.000398), MinVar_sharpe=0.285368 (tc=0.000400)\n",
      "2025-10-23 22:38:21,629 INFO Date 2016-03-01 00:00:00: 50 assets. MVO_sharpe=0.256580 (tc=0.000291), MinVar_sharpe=0.247624 (tc=0.000280)\n",
      "2025-10-23 22:38:21,869 INFO Date 2016-04-01 00:00:00: 50 assets. MVO_sharpe=0.311205 (tc=0.000286), MinVar_sharpe=0.254015 (tc=0.000240)\n",
      "2025-10-23 22:38:22,094 INFO Date 2016-06-01 00:00:00: 50 assets. MVO_sharpe=0.181764 (tc=0.000408), MinVar_sharpe=0.167900 (tc=0.000310)\n",
      "2025-10-23 22:38:22,317 INFO Date 2016-07-01 00:00:00: 50 assets. MVO_sharpe=0.207647 (tc=0.000391), MinVar_sharpe=0.199243 (tc=0.000360)\n",
      "2025-10-23 22:38:22,550 INFO Date 2016-08-01 00:00:00: 50 assets. MVO_sharpe=0.195638 (tc=0.000459), MinVar_sharpe=0.191979 (tc=0.000440)\n",
      "2025-10-23 22:38:22,776 INFO Date 2016-09-01 00:00:00: 50 assets. MVO_sharpe=0.243922 (tc=0.000443), MinVar_sharpe=0.234741 (tc=0.000440)\n",
      "2025-10-23 22:38:23,003 INFO Date 2016-11-01 00:00:00: 50 assets. MVO_sharpe=0.309909 (tc=0.000471), MinVar_sharpe=0.307885 (tc=0.000440)\n",
      "2025-10-23 22:38:23,225 INFO Date 2016-12-01 00:00:00: 50 assets. MVO_sharpe=0.272851 (tc=0.000444), MinVar_sharpe=0.270625 (tc=0.000440)\n",
      "2025-10-23 22:38:23,478 INFO Date 2017-02-01 00:00:00: 50 assets. MVO_sharpe=0.233870 (tc=0.000438), MinVar_sharpe=0.231181 (tc=0.000430)\n",
      "2025-10-23 22:38:23,711 INFO Date 2017-03-01 00:00:00: 50 assets. MVO_sharpe=0.267227 (tc=0.000359), MinVar_sharpe=0.261678 (tc=0.000320)\n",
      "2025-10-23 22:38:23,941 INFO Date 2017-06-01 00:00:00: 50 assets. MVO_sharpe=0.284447 (tc=0.000464), MinVar_sharpe=0.285986 (tc=0.000460)\n",
      "2025-10-23 22:38:24,170 INFO Date 2017-08-01 00:00:00: 50 assets. MVO_sharpe=0.262391 (tc=0.000443), MinVar_sharpe=0.261393 (tc=0.000430)\n",
      "2025-10-23 22:38:24,393 INFO Date 2017-09-01 00:00:00: 50 assets. MVO_sharpe=0.304211 (tc=0.000462), MinVar_sharpe=0.303005 (tc=0.000450)\n",
      "2025-10-23 22:38:24,632 INFO Date 2017-11-01 00:00:00: 50 assets. MVO_sharpe=0.348871 (tc=0.000420), MinVar_sharpe=0.347913 (tc=0.000390)\n",
      "2025-10-23 22:38:24,857 INFO Date 2017-12-01 00:00:00: 50 assets. MVO_sharpe=0.223021 (tc=0.000463), MinVar_sharpe=0.217604 (tc=0.000450)\n",
      "2025-10-23 22:38:25,079 INFO Date 2018-01-01 00:00:00: 50 assets. MVO_sharpe=0.281782 (tc=0.000443), MinVar_sharpe=0.277524 (tc=0.000430)\n",
      "2025-10-23 22:38:25,307 INFO Date 2018-02-01 00:00:00: 50 assets. MVO_sharpe=0.298354 (tc=0.000414), MinVar_sharpe=0.297985 (tc=0.000400)\n",
      "2025-10-23 22:38:25,536 INFO Date 2018-03-01 00:00:00: 50 assets. MVO_sharpe=0.301603 (tc=0.000401), MinVar_sharpe=0.295708 (tc=0.000380)\n",
      "2025-10-23 22:38:25,766 INFO Date 2018-06-01 00:00:00: 50 assets. MVO_sharpe=0.206771 (tc=0.000441), MinVar_sharpe=0.204488 (tc=0.000420)\n",
      "2025-10-23 22:38:25,993 INFO Date 2018-08-01 00:00:00: 50 assets. MVO_sharpe=0.259742 (tc=0.000414), MinVar_sharpe=0.258346 (tc=0.000390)\n",
      "2025-10-23 22:38:26,222 INFO Date 2018-10-01 00:00:00: 50 assets. MVO_sharpe=0.255586 (tc=0.000432), MinVar_sharpe=0.249408 (tc=0.000420)\n",
      "2025-10-23 22:38:26,447 INFO Date 2018-11-01 00:00:00: 50 assets. MVO_sharpe=0.377299 (tc=0.000412), MinVar_sharpe=0.372667 (tc=0.000410)\n",
      "2025-10-23 22:38:26,685 INFO Date 2019-01-01 00:00:00: 50 assets. MVO_sharpe=0.213332 (tc=0.000423), MinVar_sharpe=0.208566 (tc=0.000420)\n",
      "2025-10-23 22:38:26,910 INFO Date 2019-02-01 00:00:00: 50 assets. MVO_sharpe=0.519853 (tc=0.000436), MinVar_sharpe=0.326129 (tc=0.000430)\n",
      "2025-10-23 22:38:27,134 INFO Date 2019-03-01 00:00:00: 50 assets. MVO_sharpe=0.314802 (tc=0.000387), MinVar_sharpe=0.312084 (tc=0.000370)\n",
      "2025-10-23 22:38:27,362 INFO Date 2019-04-01 00:00:00: 50 assets. MVO_sharpe=0.246381 (tc=0.000415), MinVar_sharpe=0.243884 (tc=0.000410)\n",
      "2025-10-23 22:38:27,599 INFO Date 2019-07-01 00:00:00: 50 assets. MVO_sharpe=0.257366 (tc=0.000403), MinVar_sharpe=0.255763 (tc=0.000390)\n",
      "2025-10-23 22:38:27,819 INFO Date 2019-08-01 00:00:00: 50 assets. MVO_sharpe=0.265926 (tc=0.000482), MinVar_sharpe=0.237284 (tc=0.000480)\n",
      "2025-10-23 22:38:28,042 INFO Date 2019-10-01 00:00:00: 50 assets. MVO_sharpe=0.149691 (tc=0.000449), MinVar_sharpe=0.130201 (tc=0.000450)\n",
      "2025-10-23 22:38:28,268 INFO Date 2019-11-01 00:00:00: 50 assets. MVO_sharpe=0.247875 (tc=0.000415), MinVar_sharpe=0.226075 (tc=0.000410)\n",
      "2025-10-23 22:38:28,494 INFO Date 2020-01-01 00:00:00: 50 assets. MVO_sharpe=0.253504 (tc=0.000430), MinVar_sharpe=0.247491 (tc=0.000410)\n",
      "2025-10-23 22:38:28,723 INFO Date 2020-02-01 00:00:00: 50 assets. MVO_sharpe=0.166174 (tc=0.000451), MinVar_sharpe=0.154008 (tc=0.000420)\n",
      "2025-10-23 22:38:28,940 INFO Date 2020-04-01 00:00:00: 50 assets. MVO_sharpe=0.453980 (tc=0.000467), MinVar_sharpe=0.454386 (tc=0.000450)\n",
      "2025-10-23 22:38:29,159 INFO Date 2020-06-01 00:00:00: 50 assets. MVO_sharpe=0.276172 (tc=0.000478), MinVar_sharpe=0.265588 (tc=0.000470)\n",
      "2025-10-23 22:38:29,381 INFO Date 2020-07-01 00:00:00: 50 assets. MVO_sharpe=0.182979 (tc=0.000426), MinVar_sharpe=0.175820 (tc=0.000410)\n",
      "2025-10-23 22:38:29,612 INFO Date 2020-09-01 00:00:00: 50 assets. MVO_sharpe=0.166566 (tc=0.000440), MinVar_sharpe=0.159340 (tc=0.000420)\n",
      "2025-10-23 22:38:29,842 INFO Date 2020-10-01 00:00:00: 50 assets. MVO_sharpe=0.273100 (tc=0.000470), MinVar_sharpe=0.269151 (tc=0.000460)\n",
      "2025-10-23 22:38:30,095 INFO Date 2020-12-01 00:00:00: 50 assets. MVO_sharpe=0.316020 (tc=0.000445), MinVar_sharpe=0.308413 (tc=0.000440)\n",
      "2025-10-23 22:38:30,321 INFO Date 2021-01-01 00:00:00: 50 assets. MVO_sharpe=0.306512 (tc=0.000437), MinVar_sharpe=0.303053 (tc=0.000430)\n",
      "2025-10-23 22:38:30,543 INFO Date 2021-02-01 00:00:00: 50 assets. MVO_sharpe=0.373761 (tc=0.000396), MinVar_sharpe=0.373285 (tc=0.000370)\n",
      "2025-10-23 22:38:30,769 INFO Date 2021-03-01 00:00:00: 50 assets. MVO_sharpe=0.386278 (tc=0.000473), MinVar_sharpe=0.380496 (tc=0.000470)\n",
      "2025-10-23 22:38:30,991 INFO Date 2021-04-01 00:00:00: 50 assets. MVO_sharpe=0.389765 (tc=0.000435), MinVar_sharpe=0.391952 (tc=0.000430)\n",
      "2025-10-23 22:38:31,214 INFO Date 2021-06-01 00:00:00: 50 assets. MVO_sharpe=0.319939 (tc=0.000419), MinVar_sharpe=0.309066 (tc=0.000380)\n",
      "2025-10-23 22:38:31,440 INFO Date 2021-07-01 00:00:00: 50 assets. MVO_sharpe=0.320705 (tc=0.000436), MinVar_sharpe=0.318041 (tc=0.000430)\n",
      "2025-10-23 22:38:31,662 INFO Date 2021-09-01 00:00:00: 50 assets. MVO_sharpe=0.376980 (tc=0.000474), MinVar_sharpe=0.372075 (tc=0.000470)\n",
      "2025-10-23 22:38:31,904 INFO Date 2021-10-01 00:00:00: 50 assets. MVO_sharpe=0.344186 (tc=0.000384), MinVar_sharpe=0.343008 (tc=0.000360)\n",
      "2025-10-23 22:38:32,137 INFO Date 2021-11-01 00:00:00: 50 assets. MVO_sharpe=0.373375 (tc=0.000390), MinVar_sharpe=0.373816 (tc=0.000370)\n",
      "2025-10-23 22:38:32,373 INFO Date 2021-12-01 00:00:00: 50 assets. MVO_sharpe=0.320115 (tc=0.000415), MinVar_sharpe=0.319192 (tc=0.000400)\n",
      "2025-10-23 22:38:32,598 INFO Date 2022-02-01 00:00:00: 50 assets. MVO_sharpe=0.357419 (tc=0.000460), MinVar_sharpe=0.360407 (tc=0.000450)\n",
      "2025-10-23 22:38:32,825 INFO Date 2022-04-01 00:00:00: 50 assets. MVO_sharpe=0.369708 (tc=0.000447), MinVar_sharpe=0.373865 (tc=0.000430)\n",
      "2025-10-23 22:38:33,056 INFO Date 2022-06-01 00:00:00: 50 assets. MVO_sharpe=0.397200 (tc=0.000433), MinVar_sharpe=0.392767 (tc=0.000430)\n",
      "2025-10-23 22:38:33,287 INFO Date 2022-07-01 00:00:00: 50 assets. MVO_sharpe=0.300419 (tc=0.000458), MinVar_sharpe=0.300825 (tc=0.000440)\n",
      "2025-10-23 22:38:33,515 INFO Date 2022-08-01 00:00:00: 50 assets. MVO_sharpe=0.352734 (tc=0.000426), MinVar_sharpe=0.345857 (tc=0.000410)\n",
      "2025-10-23 22:38:33,744 INFO Date 2022-09-01 00:00:00: 50 assets. MVO_sharpe=0.317209 (tc=0.000376), MinVar_sharpe=0.311220 (tc=0.000380)\n",
      "2025-10-23 22:38:33,970 INFO Date 2022-11-01 00:00:00: 50 assets. MVO_sharpe=0.342721 (tc=0.000437), MinVar_sharpe=0.338829 (tc=0.000430)\n",
      "2025-10-23 22:38:34,195 INFO Date 2022-12-01 00:00:00: 50 assets. MVO_sharpe=0.315740 (tc=0.000434), MinVar_sharpe=0.317980 (tc=0.000420)\n",
      "2025-10-23 22:38:34,419 INFO Date 2023-02-01 00:00:00: 50 assets. MVO_sharpe=0.270842 (tc=0.000463), MinVar_sharpe=0.264315 (tc=0.000460)\n",
      "2025-10-23 22:38:34,645 INFO Date 2023-03-01 00:00:00: 50 assets. MVO_sharpe=0.359405 (tc=0.000477), MinVar_sharpe=0.351426 (tc=0.000460)\n",
      "2025-10-23 22:38:34,884 INFO Date 2023-06-01 00:00:00: 50 assets. MVO_sharpe=0.300377 (tc=0.000445), MinVar_sharpe=0.299945 (tc=0.000420)\n",
      "2025-10-23 22:38:35,107 INFO Date 2023-08-01 00:00:00: 50 assets. MVO_sharpe=0.332075 (tc=0.000434), MinVar_sharpe=0.330176 (tc=0.000440)\n",
      "2025-10-23 22:38:35,326 INFO Date 2023-09-01 00:00:00: 50 assets. MVO_sharpe=0.363702 (tc=0.000411), MinVar_sharpe=0.362359 (tc=0.000410)\n",
      "2025-10-23 22:38:35,548 INFO Date 2023-11-01 00:00:00: 50 assets. MVO_sharpe=0.311453 (tc=0.000463), MinVar_sharpe=0.312507 (tc=0.000440)\n",
      "2025-10-23 22:38:35,776 INFO Date 2023-12-01 00:00:00: 50 assets. MVO_sharpe=0.325039 (tc=0.000414), MinVar_sharpe=0.327899 (tc=0.000400)\n",
      "2025-10-23 22:38:36,002 INFO Date 2024-01-01 00:00:00: 50 assets. MVO_sharpe=0.361747 (tc=0.000390), MinVar_sharpe=0.362668 (tc=0.000340)\n",
      "2025-10-23 22:38:36,230 INFO Date 2024-02-01 00:00:00: 50 assets. MVO_sharpe=0.369476 (tc=0.000461), MinVar_sharpe=0.365718 (tc=0.000450)\n",
      "2025-10-23 22:38:36,458 INFO Date 2024-03-01 00:00:00: 50 assets. MVO_sharpe=0.362889 (tc=0.000434), MinVar_sharpe=0.362055 (tc=0.000420)\n",
      "2025-10-23 22:38:36,694 INFO Date 2024-04-01 00:00:00: 50 assets. MVO_sharpe=0.459939 (tc=0.000390), MinVar_sharpe=0.462280 (tc=0.000370)\n",
      "2025-10-23 22:38:36,921 INFO Date 2024-07-01 00:00:00: 50 assets. MVO_sharpe=0.412392 (tc=0.000421), MinVar_sharpe=0.412896 (tc=0.000400)\n",
      "2025-10-23 22:38:37,147 INFO Date 2024-08-01 00:00:00: 50 assets. MVO_sharpe=0.354468 (tc=0.000484), MinVar_sharpe=0.353797 (tc=0.000480)\n",
      "2025-10-23 22:38:37,372 INFO Date 2024-10-01 00:00:00: 50 assets. MVO_sharpe=0.351155 (tc=0.000476), MinVar_sharpe=0.350891 (tc=0.000470)\n",
      "2025-10-23 22:38:37,605 INFO Date 2024-11-01 00:00:00: 50 assets. MVO_sharpe=0.357317 (tc=0.000430), MinVar_sharpe=0.358733 (tc=0.000400)\n",
      "2025-10-23 22:38:37,832 INFO Date 2025-01-01 00:00:00: 50 assets. MVO_sharpe=0.362574 (tc=0.000364), MinVar_sharpe=0.358217 (tc=0.000350)\n",
      "2025-10-23 22:38:38,051 INFO Date 2025-02-01 00:00:00: 50 assets. MVO_sharpe=0.382602 (tc=0.000431), MinVar_sharpe=0.384141 (tc=0.000420)\n",
      "2025-10-23 22:38:38,269 INFO Date 2025-04-01 00:00:00: 50 assets. MVO_sharpe=0.288807 (tc=0.000457), MinVar_sharpe=0.279431 (tc=0.000450)\n",
      "2025-10-23 22:38:38,502 INFO Date 2025-07-01 00:00:00: 50 assets. MVO_sharpe=0.313931 (tc=0.000458), MinVar_sharpe=0.316075 (tc=0.000450)\n",
      "2025-10-23 22:38:38,532 INFO Saved optimized weights to D:\\Portfolio Optimzation project\\results\\portfolios\\optimized_weights.csv\n",
      "2025-10-23 22:38:38,536 INFO Saved optimization summary to D:\\Portfolio Optimzation project\\results\\portfolios\\opt_summary.csv\n",
      "2025-10-23 22:38:39,365 INFO Saved plot: D:\\Portfolio Optimzation project\\results\\portfolios\\plots\\opt_summary_timeseries.png\n",
      "2025-10-23 22:38:39,904 INFO Saved plot: D:\\Portfolio Optimzation project\\results\\portfolios\\plots\\opt_weights_last_date.png\n",
      "2025-10-23 22:38:39,912 INFO Done. Produced 3950 optimized-weight rows for 79 dates\n",
      "\n"
     ]
    }
   ],
   "source": [
    "import subprocess\n",
    "\n",
    "print(\"🚀 Running portfolio optimizer with retrained alpha...\")\n",
    "result = subprocess.run(\n",
    "    [\"python\", str(OPTIMIZER_SCRIPT)],\n",
    "    capture_output=True, text=True\n",
    ")\n",
    "\n",
    "print(result.stdout)\n",
    "print(result.stderr if result.stderr else \"✅ No optimizer errors.\")\n"
   ]
  },
  {
   "cell_type": "markdown",
   "id": "7443643f",
   "metadata": {},
   "source": [
    "Cell 3 - Backtest with Updated Weights"
   ]
  },
  {
   "cell_type": "code",
   "execution_count": 53,
   "id": "63d9b0f2",
   "metadata": {},
   "outputs": [
    {
     "name": "stdout",
     "output_type": "stream",
     "text": [
      "Loaded 1,063,311 price rows, 3,950 optimized weights\n"
     ]
    },
    {
     "name": "stderr",
     "output_type": "stream",
     "text": [
      "C:\\Users\\rajya\\AppData\\Local\\Temp\\ipykernel_2264\\1931740577.py:18: FutureWarning: The default fill_method='pad' in DataFrame.pct_change is deprecated and will be removed in a future version. Either fill in any non-leading NA values prior to calling pct_change or specify 'fill_method=None' to not fill NA values.\n",
      "  returns = price_df.pivot(index=\"date\", columns=\"ticker\", values=\"close_price\").pct_change().dropna(how=\"all\")\n"
     ]
    },
    {
     "data": {
      "image/png": "[encoded data removed]",
      "text/plain": [
       "<Figure size 1000x500 with 1 Axes>"
      ]
     },
     "metadata": {},
     "output_type": "display_data"
    }
   ],
   "source": [
    "# Cell 3: Backtest re-run\n",
    "import numpy as np\n",
    "import matplotlib.pyplot as plt\n",
    "\n",
    "PRICE_FILE = PROJECT_ROOT / \"data\" / \"price_data.csv\"\n",
    "OPT_WEIGHTS = PROJECT_ROOT / \"results\" / \"portfolios\" / \"optimized_weights.csv\"\n",
    "\n",
    "# load price and weights\n",
    "price_df = pd.read_csv(PRICE_FILE)\n",
    "price_df[\"date\"] = pd.to_datetime(price_df[\"date\"], utc=True).dt.tz_localize(None)\n",
    "\n",
    "opt_w = pd.read_csv(OPT_WEIGHTS)\n",
    "opt_w[\"date\"] = pd.to_datetime(opt_w[\"date\"], utc=True).dt.tz_localize(None)\n",
    "\n",
    "print(f\"Loaded {len(price_df):,} price rows, {len(opt_w):,} optimized weights\")\n",
    "\n",
    "# --- compute daily returns ---\n",
    "returns = price_df.pivot(index=\"date\", columns=\"ticker\", values=\"close_price\").pct_change().dropna(how=\"all\")\n",
    "\n",
    "# --- helper function ---\n",
    "def portfolio_return_from_weights(w, ret):\n",
    "    w = w.reindex(ret.columns).fillna(0)\n",
    "    return ret.mul(w, axis=1).sum(axis=1)\n",
    "\n",
    "# --- apply weights by rebalance period ---\n",
    "rebalance_dates = sorted(opt_w[\"date\"].unique())\n",
    "pf_daily = pd.Series(index=returns.index, dtype=float)\n",
    "prev_w = pd.Series(0.0, index=returns.columns)\n",
    "\n",
    "for i, d in enumerate(rebalance_dates):\n",
    "    w = opt_w[opt_w[\"date\"] == d].set_index(\"ticker\")[\"w_mvo_best_sharpe\"]\n",
    "    mask = (returns.index >= d)\n",
    "    if i + 1 < len(rebalance_dates):\n",
    "        mask &= (returns.index < rebalance_dates[i + 1])\n",
    "    r = portfolio_return_from_weights(w, returns.loc[mask])\n",
    "    pf_daily.loc[returns.loc[mask].index] = r.values\n",
    "\n",
    "# --- compute portfolio value ---\n",
    "INITIAL_CAPITAL = 1_000_000\n",
    "pf_value = (1 + pf_daily.fillna(0)).cumprod() * INITIAL_CAPITAL\n",
    "pf_value.plot(figsize=(10, 5), title=\"Optimized Portfolio Cumulative Value\")\n",
    "plt.show()\n"
   ]
  },
  {
   "cell_type": "markdown",
   "id": "895fe5e4",
   "metadata": {},
   "source": [
    "Cell 4 - Compare EqualWeight and MinVar"
   ]
  },
  {
   "cell_type": "code",
   "execution_count": 54,
   "id": "14d4fa19",
   "metadata": {},
   "outputs": [
    {
     "data": {
      "image/png": "[encoded data removed]",
      "text/plain": [
       "<Figure size 1000x500 with 1 Axes>"
      ]
     },
     "metadata": {},
     "output_type": "display_data"
    }
   ],
   "source": [
    "# EqualWeight & MinVar benchmark comparison\n",
    "ew = pd.Series(1 / len(returns.columns), index=returns.columns)\n",
    "ew_ret = portfolio_return_from_weights(ew, returns)\n",
    "ew_value = (1 + ew_ret.fillna(0)).cumprod() * INITIAL_CAPITAL\n",
    "\n",
    "# Plot comparison\n",
    "plt.figure(figsize=(10, 5))\n",
    "plt.plot(pf_value.index, pf_value / INITIAL_CAPITAL, label=\"MVO (Retrained Alpha)\")\n",
    "plt.plot(ew_value.index, ew_value / INITIAL_CAPITAL, label=\"Equal Weight\")\n",
    "plt.title(\"Cumulative Portfolio Value (normalized)\")\n",
    "plt.ylabel(\"Normalized Value\")\n",
    "plt.legend()\n",
    "plt.show()\n"
   ]
  },
  {
   "cell_type": "markdown",
   "id": "2749d113",
   "metadata": {},
   "source": [
    "Cell 5 - Performance Summary Table"
   ]
  },
  {
   "cell_type": "code",
   "execution_count": 55,
   "id": "1faa77e1",
   "metadata": {},
   "outputs": [
    {
     "name": "stderr",
     "output_type": "stream",
     "text": [
      "c:\\ProgramData\\anaconda3\\envs\\portfolio_opt\\lib\\site-packages\\pandas\\core\\nanops.py:1016: RuntimeWarning: invalid value encountered in subtract\n",
      "  sqr = _ensure_numeric((avg - values) ** 2)\n",
      "C:\\Users\\rajya\\AppData\\Local\\Temp\\ipykernel_2264\\3837312092.py:17: FutureWarning: DataFrame.applymap has been deprecated. Use DataFrame.map instead.\n",
      "  summary = summary.applymap(lambda x: f\"{x:.2%}\" if pd.notna(x) else \"NaN\")\n"
     ]
    },
    {
     "data": {
      "text/html": [
       "<div>\n",
       "<style scoped>\n",
       "    .dataframe tbody tr th:only-of-type {\n",
       "        vertical-align: middle;\n",
       "    }\n",
       "\n",
       "    .dataframe tbody tr th {\n",
       "        vertical-align: top;\n",
       "    }\n",
       "\n",
       "    .dataframe thead th {\n",
       "        text-align: right;\n",
       "    }\n",
       "</style>\n",
       "<table border=\"1\" class=\"dataframe\">\n",
       "  <thead>\n",
       "    <tr style=\"text-align: right;\">\n",
       "      <th></th>\n",
       "      <th>MVO (Retrained Alpha)</th>\n",
       "      <th>Equal Weight</th>\n",
       "    </tr>\n",
       "    <tr>\n",
       "      <th>Metric</th>\n",
       "      <th></th>\n",
       "      <th></th>\n",
       "    </tr>\n",
       "  </thead>\n",
       "  <tbody>\n",
       "    <tr>\n",
       "      <th>Annual Return</th>\n",
       "      <td>34.80%</td>\n",
       "      <td>inf%</td>\n",
       "    </tr>\n",
       "    <tr>\n",
       "      <th>Volatility</th>\n",
       "      <td>22.99%</td>\n",
       "      <td>NaN</td>\n",
       "    </tr>\n",
       "    <tr>\n",
       "      <th>Sharpe</th>\n",
       "      <td>151.38%</td>\n",
       "      <td>NaN</td>\n",
       "    </tr>\n",
       "  </tbody>\n",
       "</table>\n",
       "</div>"
      ],
      "text/plain": [
       "              MVO (Retrained Alpha) Equal Weight\n",
       "Metric                                          \n",
       "Annual Return                34.80%         inf%\n",
       "Volatility                   22.99%          NaN\n",
       "Sharpe                      151.38%          NaN"
      ]
     },
     "execution_count": 55,
     "metadata": {},
     "output_type": "execute_result"
    }
   ],
   "source": [
    "def compute_metrics(returns):\n",
    "    ann_ret = (1 + returns).prod() ** (252 / len(returns)) - 1\n",
    "    ann_vol = returns.std() * np.sqrt(252)\n",
    "    sharpe = ann_ret / ann_vol if ann_vol > 0 else np.nan\n",
    "    return ann_ret, ann_vol, sharpe\n",
    "\n",
    "mvo_ann, mvo_vol, mvo_sharpe = compute_metrics(pf_daily.dropna())\n",
    "ew_ann, ew_vol, ew_sharpe = compute_metrics(ew_ret.dropna())\n",
    "\n",
    "summary = pd.DataFrame({\n",
    "    \"Metric\": [\"Annual Return\", \"Volatility\", \"Sharpe\"],\n",
    "    \"MVO (Retrained Alpha)\": [mvo_ann, mvo_vol, mvo_sharpe],\n",
    "    \"Equal Weight\": [ew_ann, ew_vol, ew_sharpe]\n",
    "})\n",
    "\n",
    "summary.set_index(\"Metric\", inplace=True)\n",
    "summary = summary.applymap(lambda x: f\"{x:.2%}\" if pd.notna(x) else \"NaN\")\n",
    "summary\n"
   ]
  },
  {
   "cell_type": "markdown",
   "id": "45d0c17e",
   "metadata": {},
   "source": [
    "Result Summary "
   ]
  },
  {
   "cell_type": "markdown",
   "id": "fcc1376b",
   "metadata": {},
   "source": [
    "| Metric                   | MVO (Retrained Alpha) | Equal Weight | Interpretation                                                                     |\n",
    "| :----------------------- | :-------------------- | :----------- | :--------------------------------------------------------------------------------- |\n",
    "| **Annual Return (CAGR)** | **34.8 %**            | —            |  Huge jump after retraining — model now generates tradable, directional signals. |\n",
    "| **Volatility (σ)**       | **22.99 %**           | —            | Healthy level of risk — matches a mid-risk equity portfolio.                       |\n",
    "| **Sharpe Ratio**         | **1.51 ×**            | —            |  Excellent. Institutional grade Sharpe > 1.0 is rare; yours is in that range.     |\n"
   ]
  },
  {
   "cell_type": "markdown",
   "id": "d699f907",
   "metadata": {},
   "source": [
    "Why the Equal Weight Looks NaN\n",
    "\n",
    "That happens because:\n",
    "\n",
    "One of its tickers had missing prices (so returns were NaN),\n",
    "\n",
    "Or division by zero occurred when annualizing."
   ]
  }
 ],
 "metadata": {
  "kernelspec": {
   "display_name": "portfolio_opt",
   "language": "python",
   "name": "python3"
  },
  "language_info": {
   "codemirror_mode": {
    "name": "ipython",
    "version": 3
   },
   "file_extension": ".py",
   "mimetype": "text/x-python",
   "name": "python",
   "nbconvert_exporter": "python",
   "pygments_lexer": "ipython3",
   "version": "3.10.19"
  }
 },
 "nbformat": 4,
 "nbformat_minor": 5
}
