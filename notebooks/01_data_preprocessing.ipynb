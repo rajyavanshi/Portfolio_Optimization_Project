{
 "cells": [
  {
   "cell_type": "markdown",
   "id": "b4102534",
   "metadata": {},
   "source": [
    "#  Data Preprocessing and Cleaning\n",
    "\n",
    "###  Objective\n",
    "This notebook performs **data cleaning, formatting, and resampling** on raw stock price data to prepare it for factor construction and model development.  \n",
    "\n",
    "We will:\n",
    "- Handle missing values and invalid entries  \n",
    "- Align time indices for consistency  \n",
    "- Resample to daily frequency  \n",
    "- Save processed files for later use\n"
   ]
  },
  {
   "cell_type": "code",
   "execution_count": 5,
   "id": "fe4b8696",
   "metadata": {},
   "outputs": [
    {
     "name": "stdout",
     "output_type": "stream",
     "text": [
      " Root exists: True\n",
      "\n",
      " Root contents:\n",
      "['.git', '.gitattributes', '.gitignore', 'configs', 'environment.yml', 'logs', 'main.py', 'notebooks', 'processed_data', 'raw_data', 'README.md', 'reports', 'results', 'scripts', 'setup_structure.py', 'verification_summary.csv']\n",
      "\n",
      " Scripts folder exists: True\n",
      "\n",
      " Scripts folder contents:\n",
      "['backtester.py', 'combine_factors.py', 'data_cleaner.py', 'data_loader.py', 'factor_builder.py', 'factor_builder_fundamental.py', 'generate_fundamentals.py', 'merge_processed_data.py', 'ml_model.py', 'portfolio_optimizer.py', 'stress_tester.py', 'tempCodeRunnerFile.py', 'utils.py', 'verify_all_processed_data.py', 'visualizer.py', '__init__.py', '__pycache__']\n"
     ]
    }
   ],
   "source": [
    "import os\n",
    "\n",
    "root = r\"D:\\Portfolio Optimzation project\"\n",
    "print(\" Root exists:\", os.path.exists(root))\n",
    "\n",
    "print(\"\\n Root contents:\")\n",
    "print(os.listdir(root))\n",
    "\n",
    "scripts_path = os.path.join(root, \"scripts\")\n",
    "print(\"\\n Scripts folder exists:\", os.path.exists(scripts_path))\n",
    "\n",
    "if os.path.exists(scripts_path):\n",
    "    print(\"\\n Scripts folder contents:\")\n",
    "    print(os.listdir(scripts_path))\n"
   ]
  },
  {
   "cell_type": "code",
   "execution_count": 6,
   "id": "cb858422",
   "metadata": {},
   "outputs": [
    {
     "name": "stdout",
     "output_type": "stream",
     "text": [
      " Current Working Directory: d:\\Portfolio Optimzation project\\notebooks\n"
     ]
    }
   ],
   "source": [
    "import os\n",
    "print(\" Current Working Directory:\", os.getcwd())\n"
   ]
  },
  {
   "cell_type": "code",
   "execution_count": 7,
   "id": "e1e3b330",
   "metadata": {},
   "outputs": [
    {
     "name": "stdout",
     "output_type": "stream",
     "text": [
      "Root exists: True\n",
      "\n",
      "Root contents:\n",
      "   .git\n",
      "   .gitattributes\n",
      "   .gitignore\n",
      "   configs\n",
      "   environment.yml\n",
      "   logs\n",
      "   main.py\n",
      "   notebooks\n",
      "   processed_data\n",
      "   raw_data\n",
      "   README.md\n",
      "   reports\n",
      "   results\n",
      "   scripts\n",
      "   setup_structure.py\n",
      "   verification_summary.csv\n",
      "\n",
      "Scripts folder exists: True\n",
      "Scripts contents:\n",
      "    backtester.py\n",
      "    combine_factors.py\n",
      "    data_cleaner.py\n",
      "    data_loader.py\n",
      "    factor_builder.py\n",
      "    factor_builder_fundamental.py\n",
      "    generate_fundamentals.py\n",
      "    merge_processed_data.py\n",
      "    ml_model.py\n",
      "    portfolio_optimizer.py\n",
      "    stress_tester.py\n",
      "    tempCodeRunnerFile.py\n",
      "    utils.py\n",
      "    verify_all_processed_data.py\n",
      "    visualizer.py\n",
      "    __init__.py\n",
      "    __pycache__\n"
     ]
    }
   ],
   "source": [
    "import os\n",
    "\n",
    "root = r\"D:\\Portfolio Optimzation project\"\n",
    "\n",
    "print(\"Root exists:\", os.path.exists(root))\n",
    "print(\"\\nRoot contents:\")\n",
    "for item in os.listdir(root):\n",
    "    print(\"  \", item)\n",
    "\n",
    "scripts_path = os.path.join(root, \"scripts\")\n",
    "print(\"\\nScripts folder exists:\", os.path.exists(scripts_path))\n",
    "if os.path.exists(scripts_path):\n",
    "    print(\"Scripts contents:\")\n",
    "    for item in os.listdir(scripts_path):\n",
    "        print(\"   \", item)\n"
   ]
  },
  {
   "cell_type": "code",
   "execution_count": 8,
   "id": "255acec3",
   "metadata": {},
   "outputs": [
    {
     "name": "stdout",
     "output_type": "stream",
     "text": [
      "YES d:\\Portfolio Optimzation project\n"
     ]
    }
   ],
   "source": [
    "import sys\n",
    "for p in sys.path:\n",
    "    if \"Portfolio\" in p:\n",
    "        print(\"YES\", p)\n"
   ]
  },
  {
   "cell_type": "code",
   "execution_count": 10,
   "id": "b7c73659",
   "metadata": {},
   "outputs": [
    {
     "name": "stdout",
     "output_type": "stream",
     "text": [
      " Import successful!\n"
     ]
    }
   ],
   "source": [
    "import sys, os\n",
    "\n",
    "project_root = os.path.abspath(os.path.join(os.getcwd(), \"..\"))\n",
    "if project_root not in sys.path:\n",
    "    sys.path.append(project_root)\n",
    "\n",
    "from scripts.data_cleaner import clean_and_resample_single, process_all_files\n",
    "print(\" Import successful!\")\n"
   ]
  },
  {
   "cell_type": "code",
   "execution_count": 3,
   "id": "e48cd28c",
   "metadata": {},
   "outputs": [
    {
     "name": "stdout",
     "output_type": "stream",
     "text": [
      "<function clean_and_resample_single at 0x000001C055725750>\n",
      "<function process_all_files at 0x000001C06D834160>\n"
     ]
    }
   ],
   "source": [
    "print(clean_and_resample_single)\n",
    "print(process_all_files)\n"
   ]
  },
  {
   "cell_type": "code",
   "execution_count": 1,
   "id": "b5b74337",
   "metadata": {},
   "outputs": [
    {
     "name": "stdout",
     "output_type": "stream",
     "text": [
      "Project root added: d:\\Portfolio Optimzation project\n",
      "Scripts available: ['backtester.py', 'combine_factors.py', 'data_cleaner.py', 'data_loader.py', 'factor_builder.py', 'factor_builder_fundamental.py', 'generate_fundamentals.py', 'merge_processed_data.py', 'ml_model.py', 'portfolio_optimizer.py', 'stress_tester.py', 'tempCodeRunnerFile.py', 'utils.py', 'verify_all_processed_data.py', 'visualizer.py', '__init__.py', '__pycache__']\n",
      " Import successful!\n"
     ]
    }
   ],
   "source": [
    "import sys, os\n",
    "\n",
    "# Automatically detect project root (one level above notebooks/)\n",
    "project_root = os.path.abspath(os.path.join(os.getcwd(), \"..\"))\n",
    "\n",
    "# Add to Python path\n",
    "if project_root not in sys.path:\n",
    "    sys.path.append(project_root)\n",
    "\n",
    "print(\"Project root added:\", project_root)\n",
    "print(\"Scripts available:\", os.listdir(os.path.join(project_root, \"scripts\")))\n",
    "\n",
    "#  Correct import\n",
    "from scripts.data_cleaner import clean_and_resample_single, process_all_files\n",
    "\n",
    "print(\" Import successful!\")\n"
   ]
  },
  {
   "cell_type": "code",
   "execution_count": 13,
   "id": "e586fa02",
   "metadata": {},
   "outputs": [],
   "source": [
    "# ---- Imports ----\n",
    "import pandas as pd\n",
    "import os\n",
    "from scripts.data_cleaner import clean_and_resample_single, process_all_files\n",
    "\n",
    "\n",
    "# ---- Paths ----\n",
    "raw_dir = r\"D:\\Portfolio Optimzation project\\raw_data\"\n",
    "processed_dir = r\"D:\\Portfolio Optimzation project\\processed_data\"\n",
    "\n",
    "os.makedirs(processed_dir, exist_ok=True)\n"
   ]
  },
  {
   "cell_type": "markdown",
   "id": "c7ca320c",
   "metadata": {},
   "source": [
    "##  Inspecting Raw Data\n",
    "\n",
    "Let's inspect one of the raw CSV files to understand its structure and detect inconsistencies.\n"
   ]
  },
  {
   "cell_type": "code",
   "execution_count": 14,
   "id": "c8744750",
   "metadata": {},
   "outputs": [
    {
     "data": {
      "text/html": [
       "<div>\n",
       "<style scoped>\n",
       "    .dataframe tbody tr th:only-of-type {\n",
       "        vertical-align: middle;\n",
       "    }\n",
       "\n",
       "    .dataframe tbody tr th {\n",
       "        vertical-align: top;\n",
       "    }\n",
       "\n",
       "    .dataframe thead th {\n",
       "        text-align: right;\n",
       "    }\n",
       "</style>\n",
       "<table border=\"1\" class=\"dataframe\">\n",
       "  <thead>\n",
       "    <tr style=\"text-align: right;\">\n",
       "      <th></th>\n",
       "      <th>date</th>\n",
       "      <th>open</th>\n",
       "      <th>high</th>\n",
       "      <th>low</th>\n",
       "      <th>close</th>\n",
       "      <th>volume</th>\n",
       "    </tr>\n",
       "  </thead>\n",
       "  <tbody>\n",
       "    <tr>\n",
       "      <th>0</th>\n",
       "      <td>2015-02-02 09:15:00+05:30</td>\n",
       "      <td>926.40</td>\n",
       "      <td>929.75</td>\n",
       "      <td>925.70</td>\n",
       "      <td>927.25</td>\n",
       "      <td>30575</td>\n",
       "    </tr>\n",
       "    <tr>\n",
       "      <th>1</th>\n",
       "      <td>2015-02-02 09:20:00+05:30</td>\n",
       "      <td>927.25</td>\n",
       "      <td>927.30</td>\n",
       "      <td>923.45</td>\n",
       "      <td>923.50</td>\n",
       "      <td>24702</td>\n",
       "    </tr>\n",
       "    <tr>\n",
       "      <th>2</th>\n",
       "      <td>2015-02-02 09:25:00+05:30</td>\n",
       "      <td>923.50</td>\n",
       "      <td>924.10</td>\n",
       "      <td>919.90</td>\n",
       "      <td>919.90</td>\n",
       "      <td>33259</td>\n",
       "    </tr>\n",
       "    <tr>\n",
       "      <th>3</th>\n",
       "      <td>2015-02-02 09:30:00+05:30</td>\n",
       "      <td>919.95</td>\n",
       "      <td>922.95</td>\n",
       "      <td>918.60</td>\n",
       "      <td>918.90</td>\n",
       "      <td>29020</td>\n",
       "    </tr>\n",
       "    <tr>\n",
       "      <th>4</th>\n",
       "      <td>2015-02-02 09:35:00+05:30</td>\n",
       "      <td>918.85</td>\n",
       "      <td>921.80</td>\n",
       "      <td>918.85</td>\n",
       "      <td>920.00</td>\n",
       "      <td>32847</td>\n",
       "    </tr>\n",
       "  </tbody>\n",
       "</table>\n",
       "</div>"
      ],
      "text/plain": [
       "                        date    open    high     low   close  volume\n",
       "0  2015-02-02 09:15:00+05:30  926.40  929.75  925.70  927.25   30575\n",
       "1  2015-02-02 09:20:00+05:30  927.25  927.30  923.45  923.50   24702\n",
       "2  2015-02-02 09:25:00+05:30  923.50  924.10  919.90  919.90   33259\n",
       "3  2015-02-02 09:30:00+05:30  919.95  922.95  918.60  918.90   29020\n",
       "4  2015-02-02 09:35:00+05:30  918.85  921.80  918.85  920.00   32847"
      ]
     },
     "execution_count": 14,
     "metadata": {},
     "output_type": "execute_result"
    }
   ],
   "source": [
    "sample_file = os.path.join(raw_dir, \"HINDUNILVR.csv\")\n",
    "df_raw = pd.read_csv(sample_file)\n",
    "df_raw.head()\n"
   ]
  },
  {
   "cell_type": "markdown",
   "id": "4e1c2843",
   "metadata": {},
   "source": [
    "### Observations:\n",
    "- Columns likely include `Date`, `Open`, `High`, `Low`, `Close`, `Volume`\n",
    "- Missing or irregular timestamps can exist\n",
    "- We need to convert `Date` to datetime format and handle gaps\n"
   ]
  },
  {
   "cell_type": "markdown",
   "id": "56123e5a",
   "metadata": {},
   "source": [
    "##  Cleaning and Resampling a Single Stock\n",
    "We’ll use the `clean_and_resample_single()` function from our scripts to:\n",
    "- Convert timestamps\n",
    "- Remove duplicates\n",
    "- Fill missing values via forward-fill\n",
    "- Ensure consistent daily frequency\n"
   ]
  },
  {
   "cell_type": "code",
   "execution_count": 15,
   "id": "00e721a7",
   "metadata": {},
   "outputs": [
    {
     "name": "stdout",
     "output_type": "stream",
     "text": [
      " Processed HINDUNILVR → D:\\Portfolio Optimzation project\\processed_data\\HINDUNILVR_daily.csv\n"
     ]
    },
    {
     "data": {
      "text/html": [
       "<div>\n",
       "<style scoped>\n",
       "    .dataframe tbody tr th:only-of-type {\n",
       "        vertical-align: middle;\n",
       "    }\n",
       "\n",
       "    .dataframe tbody tr th {\n",
       "        vertical-align: top;\n",
       "    }\n",
       "\n",
       "    .dataframe thead th {\n",
       "        text-align: right;\n",
       "    }\n",
       "</style>\n",
       "<table border=\"1\" class=\"dataframe\">\n",
       "  <thead>\n",
       "    <tr style=\"text-align: right;\">\n",
       "      <th></th>\n",
       "      <th>date</th>\n",
       "      <th>open</th>\n",
       "      <th>high</th>\n",
       "      <th>low</th>\n",
       "      <th>close</th>\n",
       "      <th>volume</th>\n",
       "    </tr>\n",
       "  </thead>\n",
       "  <tbody>\n",
       "    <tr>\n",
       "      <th>0</th>\n",
       "      <td>2015-02-02 00:00:00+05:30</td>\n",
       "      <td>926.4</td>\n",
       "      <td>929.75</td>\n",
       "      <td>904.80</td>\n",
       "      <td>908.10</td>\n",
       "      <td>1821250</td>\n",
       "    </tr>\n",
       "    <tr>\n",
       "      <th>1</th>\n",
       "      <td>2015-02-03 00:00:00+05:30</td>\n",
       "      <td>910.5</td>\n",
       "      <td>930.35</td>\n",
       "      <td>908.00</td>\n",
       "      <td>912.75</td>\n",
       "      <td>1544230</td>\n",
       "    </tr>\n",
       "    <tr>\n",
       "      <th>2</th>\n",
       "      <td>2015-02-04 00:00:00+05:30</td>\n",
       "      <td>913.0</td>\n",
       "      <td>919.75</td>\n",
       "      <td>895.15</td>\n",
       "      <td>899.90</td>\n",
       "      <td>1180096</td>\n",
       "    </tr>\n",
       "    <tr>\n",
       "      <th>3</th>\n",
       "      <td>2015-02-05 00:00:00+05:30</td>\n",
       "      <td>905.1</td>\n",
       "      <td>919.80</td>\n",
       "      <td>901.20</td>\n",
       "      <td>908.50</td>\n",
       "      <td>1707727</td>\n",
       "    </tr>\n",
       "    <tr>\n",
       "      <th>4</th>\n",
       "      <td>2015-02-06 00:00:00+05:30</td>\n",
       "      <td>909.8</td>\n",
       "      <td>915.65</td>\n",
       "      <td>900.05</td>\n",
       "      <td>909.95</td>\n",
       "      <td>717231</td>\n",
       "    </tr>\n",
       "    <tr>\n",
       "      <th>...</th>\n",
       "      <td>...</td>\n",
       "      <td>...</td>\n",
       "      <td>...</td>\n",
       "      <td>...</td>\n",
       "      <td>...</td>\n",
       "      <td>...</td>\n",
       "    </tr>\n",
       "    <tr>\n",
       "      <th>2587</th>\n",
       "      <td>2025-08-20 00:00:00+05:30</td>\n",
       "      <td>2599.0</td>\n",
       "      <td>2680.00</td>\n",
       "      <td>2588.50</td>\n",
       "      <td>2668.00</td>\n",
       "      <td>3150029</td>\n",
       "    </tr>\n",
       "    <tr>\n",
       "      <th>2588</th>\n",
       "      <td>2025-08-21 00:00:00+05:30</td>\n",
       "      <td>2667.1</td>\n",
       "      <td>2667.10</td>\n",
       "      <td>2627.30</td>\n",
       "      <td>2640.00</td>\n",
       "      <td>2229536</td>\n",
       "    </tr>\n",
       "    <tr>\n",
       "      <th>2589</th>\n",
       "      <td>2025-08-22 00:00:00+05:30</td>\n",
       "      <td>2647.0</td>\n",
       "      <td>2658.50</td>\n",
       "      <td>2619.00</td>\n",
       "      <td>2630.00</td>\n",
       "      <td>1219005</td>\n",
       "    </tr>\n",
       "    <tr>\n",
       "      <th>2590</th>\n",
       "      <td>2025-08-25 00:00:00+05:30</td>\n",
       "      <td>2643.0</td>\n",
       "      <td>2643.00</td>\n",
       "      <td>2615.20</td>\n",
       "      <td>2628.00</td>\n",
       "      <td>661545</td>\n",
       "    </tr>\n",
       "    <tr>\n",
       "      <th>2591</th>\n",
       "      <td>2025-08-26 00:00:00+05:30</td>\n",
       "      <td>2624.6</td>\n",
       "      <td>2705.00</td>\n",
       "      <td>2624.60</td>\n",
       "      <td>2693.80</td>\n",
       "      <td>4346960</td>\n",
       "    </tr>\n",
       "  </tbody>\n",
       "</table>\n",
       "<p>2592 rows × 6 columns</p>\n",
       "</div>"
      ],
      "text/plain": [
       "                          date    open     high      low    close   volume\n",
       "0    2015-02-02 00:00:00+05:30   926.4   929.75   904.80   908.10  1821250\n",
       "1    2015-02-03 00:00:00+05:30   910.5   930.35   908.00   912.75  1544230\n",
       "2    2015-02-04 00:00:00+05:30   913.0   919.75   895.15   899.90  1180096\n",
       "3    2015-02-05 00:00:00+05:30   905.1   919.80   901.20   908.50  1707727\n",
       "4    2015-02-06 00:00:00+05:30   909.8   915.65   900.05   909.95   717231\n",
       "...                        ...     ...      ...      ...      ...      ...\n",
       "2587 2025-08-20 00:00:00+05:30  2599.0  2680.00  2588.50  2668.00  3150029\n",
       "2588 2025-08-21 00:00:00+05:30  2667.1  2667.10  2627.30  2640.00  2229536\n",
       "2589 2025-08-22 00:00:00+05:30  2647.0  2658.50  2619.00  2630.00  1219005\n",
       "2590 2025-08-25 00:00:00+05:30  2643.0  2643.00  2615.20  2628.00   661545\n",
       "2591 2025-08-26 00:00:00+05:30  2624.6  2705.00  2624.60  2693.80  4346960\n",
       "\n",
       "[2592 rows x 6 columns]"
      ]
     },
     "execution_count": 15,
     "metadata": {},
     "output_type": "execute_result"
    }
   ],
   "source": [
    "clean_and_resample_single(sample_file, processed_dir)\n"
   ]
  },
  {
   "cell_type": "markdown",
   "id": "7bf38f8b",
   "metadata": {},
   "source": [
    "###  Output Verification\n",
    "Let’s check the processed data.\n"
   ]
  },
  {
   "cell_type": "code",
   "execution_count": 19,
   "id": "a70d1b19",
   "metadata": {},
   "outputs": [
    {
     "data": {
      "text/html": [
       "<div>\n",
       "<style scoped>\n",
       "    .dataframe tbody tr th:only-of-type {\n",
       "        vertical-align: middle;\n",
       "    }\n",
       "\n",
       "    .dataframe tbody tr th {\n",
       "        vertical-align: top;\n",
       "    }\n",
       "\n",
       "    .dataframe thead th {\n",
       "        text-align: right;\n",
       "    }\n",
       "</style>\n",
       "<table border=\"1\" class=\"dataframe\">\n",
       "  <thead>\n",
       "    <tr style=\"text-align: right;\">\n",
       "      <th></th>\n",
       "      <th>date</th>\n",
       "      <th>open</th>\n",
       "      <th>high</th>\n",
       "      <th>low</th>\n",
       "      <th>close</th>\n",
       "      <th>volume</th>\n",
       "    </tr>\n",
       "  </thead>\n",
       "  <tbody>\n",
       "    <tr>\n",
       "      <th>0</th>\n",
       "      <td>2015-02-02 00:00:00+05:30</td>\n",
       "      <td>926.4</td>\n",
       "      <td>929.75</td>\n",
       "      <td>904.80</td>\n",
       "      <td>908.10</td>\n",
       "      <td>1821250</td>\n",
       "    </tr>\n",
       "    <tr>\n",
       "      <th>1</th>\n",
       "      <td>2015-02-03 00:00:00+05:30</td>\n",
       "      <td>910.5</td>\n",
       "      <td>930.35</td>\n",
       "      <td>908.00</td>\n",
       "      <td>912.75</td>\n",
       "      <td>1544230</td>\n",
       "    </tr>\n",
       "    <tr>\n",
       "      <th>2</th>\n",
       "      <td>2015-02-04 00:00:00+05:30</td>\n",
       "      <td>913.0</td>\n",
       "      <td>919.75</td>\n",
       "      <td>895.15</td>\n",
       "      <td>899.90</td>\n",
       "      <td>1180096</td>\n",
       "    </tr>\n",
       "    <tr>\n",
       "      <th>3</th>\n",
       "      <td>2015-02-05 00:00:00+05:30</td>\n",
       "      <td>905.1</td>\n",
       "      <td>919.80</td>\n",
       "      <td>901.20</td>\n",
       "      <td>908.50</td>\n",
       "      <td>1707727</td>\n",
       "    </tr>\n",
       "    <tr>\n",
       "      <th>4</th>\n",
       "      <td>2015-02-06 00:00:00+05:30</td>\n",
       "      <td>909.8</td>\n",
       "      <td>915.65</td>\n",
       "      <td>900.05</td>\n",
       "      <td>909.95</td>\n",
       "      <td>717231</td>\n",
       "    </tr>\n",
       "  </tbody>\n",
       "</table>\n",
       "</div>"
      ],
      "text/plain": [
       "                       date   open    high     low   close   volume\n",
       "0 2015-02-02 00:00:00+05:30  926.4  929.75  904.80  908.10  1821250\n",
       "1 2015-02-03 00:00:00+05:30  910.5  930.35  908.00  912.75  1544230\n",
       "2 2015-02-04 00:00:00+05:30  913.0  919.75  895.15  899.90  1180096\n",
       "3 2015-02-05 00:00:00+05:30  905.1  919.80  901.20  908.50  1707727\n",
       "4 2015-02-06 00:00:00+05:30  909.8  915.65  900.05  909.95   717231"
      ]
     },
     "execution_count": 19,
     "metadata": {},
     "output_type": "execute_result"
    }
   ],
   "source": [
    "processed_file = os.path.join(processed_dir, \"HINDUNILVR_daily.csv\")\n",
    "df_processed = pd.read_csv(processed_file, parse_dates=[\"date\"])\n",
    "df_processed.head()\n"
   ]
  },
  {
   "cell_type": "markdown",
   "id": "8aeca0a9",
   "metadata": {},
   "source": [
    "###  Summary Statistics Comparison\n",
    "We'll compare basic statistics before and after processing.\n"
   ]
  },
  {
   "cell_type": "code",
   "execution_count": 21,
   "id": "98758455",
   "metadata": {},
   "outputs": [
    {
     "data": {
      "text/html": [
       "<div>\n",
       "<style scoped>\n",
       "    .dataframe tbody tr th:only-of-type {\n",
       "        vertical-align: middle;\n",
       "    }\n",
       "\n",
       "    .dataframe tbody tr th {\n",
       "        vertical-align: top;\n",
       "    }\n",
       "\n",
       "    .dataframe thead th {\n",
       "        text-align: right;\n",
       "    }\n",
       "</style>\n",
       "<table border=\"1\" class=\"dataframe\">\n",
       "  <thead>\n",
       "    <tr style=\"text-align: right;\">\n",
       "      <th></th>\n",
       "      <th>Raw_Count</th>\n",
       "      <th>Processed_Count</th>\n",
       "      <th>Missing_Close_Before</th>\n",
       "      <th>Missing_Close_After</th>\n",
       "    </tr>\n",
       "  </thead>\n",
       "  <tbody>\n",
       "    <tr>\n",
       "      <th>0</th>\n",
       "      <td>193563</td>\n",
       "      <td>2592</td>\n",
       "      <td>0</td>\n",
       "      <td>0</td>\n",
       "    </tr>\n",
       "  </tbody>\n",
       "</table>\n",
       "</div>"
      ],
      "text/plain": [
       "   Raw_Count  Processed_Count  Missing_Close_Before  Missing_Close_After\n",
       "0     193563             2592                     0                    0"
      ]
     },
     "execution_count": 21,
     "metadata": {},
     "output_type": "execute_result"
    }
   ],
   "source": [
    "summary = pd.DataFrame({\n",
    "    \"Raw_Count\": [len(df_raw)],\n",
    "    \"Processed_Count\": [len(df_processed)],\n",
    "    \"Missing_Close_Before\": [df_raw['close'].isna().sum()],\n",
    "    \"Missing_Close_After\": [df_processed['close'].isna().sum()]\n",
    "})\n",
    "summary\n"
   ]
  },
  {
   "cell_type": "markdown",
   "id": "e1f92baa",
   "metadata": {},
   "source": [
    "##  Bulk Processing of All Stocks\n",
    "We'll now apply the same cleaning process to all files in the raw data directory.\n"
   ]
  },
  {
   "cell_type": "code",
   "execution_count": null,
   "id": "83beb34b",
   "metadata": {},
   "outputs": [],
   "source": [
    "process_all_files(raw_dir, processed_dir)\n",
    "print(\" All files processed and saved to:\", processed_dir)"
   ]
  },
  {
   "cell_type": "markdown",
   "id": "9261c6c6",
   "metadata": {},
   "source": [
    "###  Check one of the processed outputs again\n"
   ]
  },
  {
   "cell_type": "code",
   "execution_count": 24,
   "id": "92af78b3",
   "metadata": {},
   "outputs": [
    {
     "data": {
      "text/html": [
       "<div>\n",
       "<style scoped>\n",
       "    .dataframe tbody tr th:only-of-type {\n",
       "        vertical-align: middle;\n",
       "    }\n",
       "\n",
       "    .dataframe tbody tr th {\n",
       "        vertical-align: top;\n",
       "    }\n",
       "\n",
       "    .dataframe thead th {\n",
       "        text-align: right;\n",
       "    }\n",
       "</style>\n",
       "<table border=\"1\" class=\"dataframe\">\n",
       "  <thead>\n",
       "    <tr style=\"text-align: right;\">\n",
       "      <th></th>\n",
       "      <th>date</th>\n",
       "      <th>open</th>\n",
       "      <th>high</th>\n",
       "      <th>low</th>\n",
       "      <th>close</th>\n",
       "      <th>volume</th>\n",
       "    </tr>\n",
       "  </thead>\n",
       "  <tbody>\n",
       "    <tr>\n",
       "      <th>0</th>\n",
       "      <td>2015-11-10 00:00:00+05:30</td>\n",
       "      <td>855.8</td>\n",
       "      <td>898.5</td>\n",
       "      <td>849.45</td>\n",
       "      <td>877.50</td>\n",
       "      <td>25407881</td>\n",
       "    </tr>\n",
       "    <tr>\n",
       "      <th>1</th>\n",
       "      <td>2015-11-11 00:00:00+05:30</td>\n",
       "      <td>887.0</td>\n",
       "      <td>935.0</td>\n",
       "      <td>880.10</td>\n",
       "      <td>935.00</td>\n",
       "      <td>3295698</td>\n",
       "    </tr>\n",
       "    <tr>\n",
       "      <th>2</th>\n",
       "      <td>2015-11-13 00:00:00+05:30</td>\n",
       "      <td>918.0</td>\n",
       "      <td>1032.0</td>\n",
       "      <td>918.00</td>\n",
       "      <td>1019.50</td>\n",
       "      <td>8437156</td>\n",
       "    </tr>\n",
       "    <tr>\n",
       "      <th>3</th>\n",
       "      <td>2015-11-16 00:00:00+05:30</td>\n",
       "      <td>1014.0</td>\n",
       "      <td>1040.0</td>\n",
       "      <td>966.25</td>\n",
       "      <td>988.75</td>\n",
       "      <td>3352188</td>\n",
       "    </tr>\n",
       "    <tr>\n",
       "      <th>4</th>\n",
       "      <td>2015-11-17 00:00:00+05:30</td>\n",
       "      <td>991.0</td>\n",
       "      <td>1049.6</td>\n",
       "      <td>976.20</td>\n",
       "      <td>1049.00</td>\n",
       "      <td>3688985</td>\n",
       "    </tr>\n",
       "  </tbody>\n",
       "</table>\n",
       "</div>"
      ],
      "text/plain": [
       "                        date    open    high     low    close    volume\n",
       "0  2015-11-10 00:00:00+05:30   855.8   898.5  849.45   877.50  25407881\n",
       "1  2015-11-11 00:00:00+05:30   887.0   935.0  880.10   935.00   3295698\n",
       "2  2015-11-13 00:00:00+05:30   918.0  1032.0  918.00  1019.50   8437156\n",
       "3  2015-11-16 00:00:00+05:30  1014.0  1040.0  966.25   988.75   3352188\n",
       "4  2015-11-17 00:00:00+05:30   991.0  1049.6  976.20  1049.00   3688985"
      ]
     },
     "execution_count": 24,
     "metadata": {},
     "output_type": "execute_result"
    }
   ],
   "source": [
    "import random\n",
    "\n",
    "sample_processed = random.choice(os.listdir(processed_dir))\n",
    "pd.read_csv(os.path.join(processed_dir, sample_processed)).head()\n"
   ]
  },
  {
   "cell_type": "markdown",
   "id": "e83784f3",
   "metadata": {},
   "source": [
    "## Key Takeaways\n",
    "- Data successfully cleaned and standardized  \n",
    "- All stocks now share identical daily time indices  \n",
    "- Missing data handled consistently  \n",
    "\n",
    "**Next Step  Factor Construction (`02_factor_construction.ipynb`)**\n"
   ]
  }
 ],
 "metadata": {
  "kernelspec": {
   "display_name": "portfolio_opt",
   "language": "python",
   "name": "python3"
  },
  "language_info": {
   "codemirror_mode": {
    "name": "ipython",
    "version": 3
   },
   "file_extension": ".py",
   "mimetype": "text/x-python",
   "name": "python",
   "nbconvert_exporter": "python",
   "pygments_lexer": "ipython3",
   "version": "3.10.19"
  }
 },
 "nbformat": 4,
 "nbformat_minor": 5
}
