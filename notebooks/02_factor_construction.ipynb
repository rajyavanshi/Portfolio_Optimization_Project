{
 "cells": [
  {
   "cell_type": "markdown",
   "id": "99553b9f",
   "metadata": {},
   "source": [
    "# STAGE 2 : Factor Construction \n",
    "\n",
    "###  Purpose \n",
    "This notebook performs **Stage 2** of the Portfolio Optimization pipeline:  \n",
    "**Price-based and Fundamental-based factor construction.**\n",
    "\n",
    "We will:\n",
    "1. Compute **technical price factors** (Momentum, Volatility, Liquidity, Size Proxy)  \n",
    "2. Generate **synthetic fundamental data** (if not available)  \n",
    "3. Compute **fundamental factors** (Value and Quality) \n",
    "4. Combine all factors into a single **factor matrix**   \n",
    "5. Save final factor datasets for use in modeling and optimization stages.\n",
    "6. Visualize cross-factor correlations\n"
   ]
  },
  {
   "cell_type": "code",
   "execution_count": 13,
   "id": "a44e768a",
   "metadata": {},
   "outputs": [
    {
     "name": "stdout",
     "output_type": "stream",
     "text": [
      "d:\\Portfolio Optimzation project\n",
      "Current working directory changed successfully.\n"
     ]
    }
   ],
   "source": [
    "import os\n",
    "os.chdir(r\"d:\\Portfolio Optimzation project\")\n",
    "\n",
    "print(os.getcwd())\n",
    "print(\"Current working directory changed successfully.\")\n"
   ]
  },
  {
   "cell_type": "code",
   "execution_count": 14,
   "id": "1aeca1f1",
   "metadata": {},
   "outputs": [
    {
     "name": "stdout",
     "output_type": "stream",
     "text": [
      "['backtester.py', 'combine_factors.py', 'data_cleaner.py', 'data_loader.py', 'factor_builder.py', 'factor_builder_fundamental.py', 'generate_fundamentals.py', 'merge_processed_data.py', 'ml_model.py', 'portfolio_optimizer.py', 'stress_tester.py', 'tempCodeRunnerFile.py', 'utils.py', 'verify_all_processed_data.py', 'visualizer.py', '__init__.py', '__pycache__']\n"
     ]
    }
   ],
   "source": [
    "import os\n",
    "print(os.listdir(\"scripts\"))\n"
   ]
  },
  {
   "cell_type": "code",
   "execution_count": 15,
   "id": "7b917aa6",
   "metadata": {},
   "outputs": [
    {
     "name": "stdout",
     "output_type": "stream",
     "text": [
      "Current Working Directory: d:\\Portfolio Optimzation project\n",
      "sys.path entries:\n",
      " c:\\ProgramData\\anaconda3\\envs\\portfolio_opt\\python310.zip\n",
      "c:\\ProgramData\\anaconda3\\envs\\portfolio_opt\\DLLs\n",
      "c:\\ProgramData\\anaconda3\\envs\\portfolio_opt\\lib\n",
      "c:\\ProgramData\\anaconda3\\envs\\portfolio_opt\n",
      "\n",
      "C:\\Users\\rajya\\AppData\\Roaming\\Python\\Python310\\site-packages\n",
      "c:\\ProgramData\\anaconda3\\envs\\portfolio_opt\\lib\\site-packages\n",
      "c:\\ProgramData\\anaconda3\\envs\\portfolio_opt\\lib\\site-packages\\win32\n",
      "c:\\ProgramData\\anaconda3\\envs\\portfolio_opt\\lib\\site-packages\\win32\\lib\n",
      "c:\\ProgramData\\anaconda3\\envs\\portfolio_opt\\lib\\site-packages\\Pythonwin\n",
      "d:\\Portfolio Optimzation project\n",
      "\n",
      "Contents of scripts/: ['backtester.py', 'combine_factors.py', 'data_cleaner.py', 'data_loader.py', 'factor_builder.py', 'factor_builder_fundamental.py', 'generate_fundamentals.py', 'merge_processed_data.py', 'ml_model.py', 'portfolio_optimizer.py', 'stress_tester.py', 'tempCodeRunnerFile.py', 'utils.py', 'verify_all_processed_data.py', 'visualizer.py', '__init__.py', '__pycache__']\n"
     ]
    }
   ],
   "source": [
    "import sys, os\n",
    "print(\"Current Working Directory:\", os.getcwd())\n",
    "print(\"sys.path entries:\\n\", \"\\n\".join(sys.path))\n",
    "print(\"\\nContents of scripts/:\", os.listdir(\"scripts\"))\n"
   ]
  },
  {
   "cell_type": "code",
   "execution_count": null,
   "id": "6ea00306",
   "metadata": {},
   "outputs": [
    {
     "name": "stdout",
     "output_type": "stream",
     "text": [
      "✅ Environment cleaned & project path added: D:\\Portfolio Optimzation project\n"
     ]
    }
   ],
   "source": [
    "# 🧹 Full clean + proper re-imports\n",
    "%reset -f\n",
    "\n",
    "import sys, os, importlib\n",
    "\n",
    "# Re-initialize after reset\n",
    "project_root = r\"D:\\Portfolio Optimzation project\"\n",
    "if project_root not in sys.path:\n",
    "    sys.path.append(project_root)\n",
    "\n",
    "importlib.invalidate_caches()\n",
    "print(\" Environment cleaned & project path added:\", project_root)\n"
   ]
  },
  {
   "cell_type": "code",
   "execution_count": 17,
   "id": "b04fb906",
   "metadata": {},
   "outputs": [
    {
     "name": "stdout",
     "output_type": "stream",
     "text": [
      "Exists: True\n",
      "Files inside scripts: ['backtester.py', 'combine_factors.py', 'data_cleaner.py', 'data_loader.py', 'factor_builder.py', 'factor_builder_fundamental.py', 'generate_fundamentals.py', 'merge_processed_data.py', 'ml_model.py', 'portfolio_optimizer.py', 'stress_tester.py', 'tempCodeRunnerFile.py', 'utils.py', 'verify_all_processed_data.py', 'visualizer.py', '__init__.py', '__pycache__']\n",
      "__init__.py exists: True\n"
     ]
    }
   ],
   "source": [
    "import os\n",
    "\n",
    "path = r\"D:\\Portfolio Optimzation project\\scripts\"\n",
    "print(\"Exists:\", os.path.exists(path))\n",
    "print(\"Files inside scripts:\", os.listdir(path))\n",
    "print(\"__init__.py exists:\", os.path.exists(os.path.join(path, \"__init__.py\")))\n"
   ]
  },
  {
   "cell_type": "code",
   "execution_count": 18,
   "id": "2f94dcf0",
   "metadata": {},
   "outputs": [
    {
     "name": "stdout",
     "output_type": "stream",
     "text": [
      "File exists: True\n",
      "Spec: ModuleSpec(name='scripts.factor_builder', loader=<_frozen_importlib_external.SourceFileLoader object at 0x0000024DA2F916F0>, origin='d:\\\\Portfolio Optimzation project\\\\scripts\\\\factor_builder.py')\n"
     ]
    }
   ],
   "source": [
    "import importlib.util, os\n",
    "\n",
    "file_path = os.path.join(\"scripts\", \"factor_builder.py\")\n",
    "print(\"File exists:\", os.path.exists(file_path))\n",
    "\n",
    "spec = importlib.util.spec_from_file_location(\"scripts.factor_builder\", file_path)\n",
    "print(\"Spec:\", spec)\n"
   ]
  },
  {
   "cell_type": "code",
   "execution_count": 19,
   "id": "c0953029",
   "metadata": {},
   "outputs": [
    {
     "name": "stdout",
     "output_type": "stream",
     "text": [
      "Module loaded manually!\n",
      "Functions available: ['BASE_DIR', 'PROCESSED_PATH', 'RESULT_PATH', '__builtins__', '__cached__', '__doc__', '__file__', '__loader__', '__name__', '__package__', '__spec__', 'build_price_factors', 'compute_liquidity', 'compute_momentum', 'compute_returns', 'compute_size_proxy', 'compute_volatility', 'normalize_factors', 'np', 'os', 'pd', 'tqdm']\n"
     ]
    }
   ],
   "source": [
    "import importlib.util, os, sys\n",
    "\n",
    "module_path = os.path.join(os.getcwd(), \"scripts\", \"factor_builder.py\")\n",
    "spec = importlib.util.spec_from_file_location(\"factor_builder\", module_path)\n",
    "module = importlib.util.module_from_spec(spec)\n",
    "sys.modules[\"factor_builder\"] = module\n",
    "spec.loader.exec_module(module)\n",
    "\n",
    "print(\"Module loaded manually!\")\n",
    "print(\"Functions available:\", dir(module))\n"
   ]
  },
  {
   "cell_type": "code",
   "execution_count": 20,
   "id": "063f1a0f",
   "metadata": {},
   "outputs": [
    {
     "name": "stdout",
     "output_type": "stream",
     "text": [
      "Project root added to sys.path: d:\\\n"
     ]
    }
   ],
   "source": [
    "import os\n",
    "import sys\n",
    "project_root = os.path.abspath(os.path.join(os.getcwd(),\"..\"))\n",
    "if project_root not in sys.path:\n",
    "    sys.path.append(project_root)\n",
    "print(\"Project root added to sys.path:\", project_root)"
   ]
  },
  {
   "cell_type": "code",
   "execution_count": 29,
   "id": "d6ab799b",
   "metadata": {},
   "outputs": [
    {
     "name": "stdout",
     "output_type": "stream",
     "text": [
      " Current Working Directory: d:\\Portfolio Optimzation project\n"
     ]
    }
   ],
   "source": [
    "import os\n",
    "print(\" Current Working Directory:\", os.getcwd())\n"
   ]
  },
  {
   "cell_type": "code",
   "execution_count": 30,
   "id": "eedc576a",
   "metadata": {},
   "outputs": [
    {
     "name": "stdout",
     "output_type": "stream",
     "text": [
      "YES d:\\Portfolio Optimzation project\n",
      "YES D:\\Portfolio Optimzation project\n"
     ]
    }
   ],
   "source": [
    "import sys\n",
    "for p in sys.path:\n",
    "    if \"Portfolio\" in p:\n",
    "        print(\"YES\", p)"
   ]
  },
  {
   "cell_type": "code",
   "execution_count": null,
   "id": "4e36cf54",
   "metadata": {},
   "outputs": [
    {
     "name": "stdout",
     "output_type": "stream",
     "text": [
      "Project root added: d:\\\n"
     ]
    },
    {
     "ename": "FileNotFoundError",
     "evalue": "[WinError 3] The system cannot find the path specified: 'd:\\\\scripts'",
     "output_type": "error",
     "traceback": [
      "\u001b[1;31m---------------------------------------------------------------------------\u001b[0m",
      "\u001b[1;31mFileNotFoundError\u001b[0m                         Traceback (most recent call last)",
      "Cell \u001b[1;32mIn[38], line 11\u001b[0m\n\u001b[0;32m      8\u001b[0m     sys\u001b[38;5;241m.\u001b[39mpath\u001b[38;5;241m.\u001b[39mappend(project_root)\n\u001b[0;32m     10\u001b[0m \u001b[38;5;28mprint\u001b[39m(\u001b[38;5;124m\"\u001b[39m\u001b[38;5;124mProject root added:\u001b[39m\u001b[38;5;124m\"\u001b[39m, project_root)\n\u001b[1;32m---> 11\u001b[0m \u001b[38;5;28mprint\u001b[39m(\u001b[38;5;124m\"\u001b[39m\u001b[38;5;124mScripts available:\u001b[39m\u001b[38;5;124m\"\u001b[39m, \u001b[43mos\u001b[49m\u001b[38;5;241;43m.\u001b[39;49m\u001b[43mlistdir\u001b[49m\u001b[43m(\u001b[49m\u001b[43mos\u001b[49m\u001b[38;5;241;43m.\u001b[39;49m\u001b[43mpath\u001b[49m\u001b[38;5;241;43m.\u001b[39;49m\u001b[43mjoin\u001b[49m\u001b[43m(\u001b[49m\u001b[43mproject_root\u001b[49m\u001b[43m,\u001b[49m\u001b[43m \u001b[49m\u001b[38;5;124;43m\"\u001b[39;49m\u001b[38;5;124;43mscripts\u001b[39;49m\u001b[38;5;124;43m\"\u001b[39;49m\u001b[43m)\u001b[49m\u001b[43m)\u001b[49m)\n",
      "\u001b[1;31mFileNotFoundError\u001b[0m: [WinError 3] The system cannot find the path specified: 'd:\\\\scripts'"
     ]
    }
   ],
   "source": [
    "import sys, os\n",
    "\n",
    "# Automatically detect project root (one level above notebooks/)\n",
    "project_root = os.path.abspath(os.path.join(os.getcwd(), \"..\"))\n",
    "\n",
    "# Add to Python path\n",
    "if project_root not in sys.path:\n",
    "    sys.path.append(project_root)\n",
    "\n",
    "print(\"Project root added:\", project_root)\n",
    "print(\"Scripts available:\", os.listdir(os.path.join(project_root, \"scripts\")))"
   ]
  },
  {
   "cell_type": "code",
   "execution_count": 39,
   "id": "57264842",
   "metadata": {},
   "outputs": [
    {
     "name": "stdout",
     "output_type": "stream",
     "text": [
      " All imports successful!\n"
     ]
    }
   ],
   "source": [
    "from scripts.factor_builder import build_price_factors\n",
    "from scripts.generate_fundamentals import generate_fundamentals\n",
    "from scripts.factor_builder_fundamental import build_fundamental_factors\n",
    "from scripts.combine_factors import combine_factors\n",
    "print(\" All imports successful!\")\n"
   ]
  },
  {
   "cell_type": "code",
   "execution_count": 27,
   "id": "a7b17f54",
   "metadata": {},
   "outputs": [],
   "source": [
    "# ---- Imports ----\n",
    "import os, sys\n",
    "import pandas as pd\n",
    "\n",
    "#  Ensure project root path\n",
    "project_root = os.path.abspath(os.path.join(os.getcwd(), \"..\"))\n",
    "if project_root not in sys.path:\n",
    "    sys.path.append(project_root)\n",
    "\n",
    "# ---- Import factor-related scripts ----\n",
    "from scripts.factor_builder import build_price_factors\n",
    "from scripts.generate_fundamentals import generate_fundamentals\n",
    "from scripts.factor_builder_fundamental import build_fundamental_factors\n",
    "from scripts.combine_factors import combine_factors\n",
    "\n",
    "# ---- Paths ----\n",
    "BASE_DIR = r\"D:\\Portfolio Optimzation project\"\n",
    "RESULT_DIR = os.path.join(BASE_DIR, \"results\", \"factors\")\n",
    "os.makedirs(RESULT_DIR, exist_ok=True)\n"
   ]
  },
  {
   "cell_type": "markdown",
   "id": "7caf6ff8",
   "metadata": {},
   "source": [
    "##  Stage 2A – Price-Based Factor Construction\n",
    "\n",
    "This stage computes **technical price factors** from `merged_prices.csv`.\n",
    "\n",
    "**Input:** `processed_data/merged_prices.csv`  \n",
    "**Output:** `results/factors/price_factors.csv`\n",
    "\n",
    "| Factor | Description |\n",
    "|---------|-------------|\n",
    "| `returns` | Daily percentage return |\n",
    "| `momentum` | 126-day cumulative price change |\n",
    "| `volatility` | 60-day rolling std. of returns |\n",
    "| `liquidity` | 60-day rolling mean of volume |\n",
    "| `size_proxy` | log(price × volume) |\n",
    "\n",
    "All factors are z-score normalized cross-sectionally per date.\n"
   ]
  },
  {
   "cell_type": "code",
   "execution_count": 41,
   "id": "e72c1940",
   "metadata": {},
   "outputs": [
    {
     "name": "stdout",
     "output_type": "stream",
     "text": [
      " Loading merged price data...\n",
      " Computing factors...\n"
     ]
    },
    {
     "name": "stderr",
     "output_type": "stream",
     "text": [
      "c:\\ProgramData\\anaconda3\\envs\\portfolio_opt\\lib\\site-packages\\pandas\\core\\nanops.py:1016: RuntimeWarning: invalid value encountered in subtract\n",
      "  sqr = _ensure_numeric((avg - values) ** 2)\n"
     ]
    },
    {
     "name": "stdout",
     "output_type": "stream",
     "text": [
      " Saving to: D:\\Portfolio Optimzation project\\results\\factors\\price_factors.csv\n",
      " Price-based factor matrix saved successfully!\n"
     ]
    }
   ],
   "source": [
    "# Run price factor construction\n",
    "build_price_factors()\n"
   ]
  },
  {
   "cell_type": "markdown",
   "id": "9814df60",
   "metadata": {},
   "source": [
    "###  Preview Price Factors\n"
   ]
  },
  {
   "cell_type": "code",
   "execution_count": 42,
   "id": "edcb1b78",
   "metadata": {},
   "outputs": [
    {
     "data": {
      "text/html": [
       "<div>\n",
       "<style scoped>\n",
       "    .dataframe tbody tr th:only-of-type {\n",
       "        vertical-align: middle;\n",
       "    }\n",
       "\n",
       "    .dataframe tbody tr th {\n",
       "        vertical-align: top;\n",
       "    }\n",
       "\n",
       "    .dataframe thead th {\n",
       "        text-align: right;\n",
       "    }\n",
       "</style>\n",
       "<table border=\"1\" class=\"dataframe\">\n",
       "  <thead>\n",
       "    <tr style=\"text-align: right;\">\n",
       "      <th></th>\n",
       "      <th>date</th>\n",
       "      <th>ticker</th>\n",
       "      <th>momentum</th>\n",
       "      <th>volatility</th>\n",
       "      <th>liquidity</th>\n",
       "      <th>size_proxy</th>\n",
       "    </tr>\n",
       "  </thead>\n",
       "  <tbody>\n",
       "    <tr>\n",
       "      <th>0</th>\n",
       "      <td>2015-08-05 00:00:00+05:30</td>\n",
       "      <td>360ONE_DAILY</td>\n",
       "      <td>-0.268362</td>\n",
       "      <td>-0.586314</td>\n",
       "      <td>-0.445944</td>\n",
       "      <td>-1.849891</td>\n",
       "    </tr>\n",
       "    <tr>\n",
       "      <th>1</th>\n",
       "      <td>2015-08-06 00:00:00+05:30</td>\n",
       "      <td>360ONE_DAILY</td>\n",
       "      <td>-0.216935</td>\n",
       "      <td>-0.586200</td>\n",
       "      <td>-0.445136</td>\n",
       "      <td>-1.883441</td>\n",
       "    </tr>\n",
       "    <tr>\n",
       "      <th>2</th>\n",
       "      <td>2015-08-07 00:00:00+05:30</td>\n",
       "      <td>360ONE_DAILY</td>\n",
       "      <td>-0.279748</td>\n",
       "      <td>-0.600034</td>\n",
       "      <td>-0.457554</td>\n",
       "      <td>-1.188529</td>\n",
       "    </tr>\n",
       "    <tr>\n",
       "      <th>3</th>\n",
       "      <td>2015-08-10 00:00:00+05:30</td>\n",
       "      <td>360ONE_DAILY</td>\n",
       "      <td>-0.289557</td>\n",
       "      <td>-0.599530</td>\n",
       "      <td>-0.459082</td>\n",
       "      <td>-1.241071</td>\n",
       "    </tr>\n",
       "    <tr>\n",
       "      <th>4</th>\n",
       "      <td>2015-08-11 00:00:00+05:30</td>\n",
       "      <td>360ONE_DAILY</td>\n",
       "      <td>-0.266339</td>\n",
       "      <td>-0.594882</td>\n",
       "      <td>-0.457766</td>\n",
       "      <td>-1.703545</td>\n",
       "    </tr>\n",
       "  </tbody>\n",
       "</table>\n",
       "</div>"
      ],
      "text/plain": [
       "                       date        ticker  momentum  volatility  liquidity  \\\n",
       "0 2015-08-05 00:00:00+05:30  360ONE_DAILY -0.268362   -0.586314  -0.445944   \n",
       "1 2015-08-06 00:00:00+05:30  360ONE_DAILY -0.216935   -0.586200  -0.445136   \n",
       "2 2015-08-07 00:00:00+05:30  360ONE_DAILY -0.279748   -0.600034  -0.457554   \n",
       "3 2015-08-10 00:00:00+05:30  360ONE_DAILY -0.289557   -0.599530  -0.459082   \n",
       "4 2015-08-11 00:00:00+05:30  360ONE_DAILY -0.266339   -0.594882  -0.457766   \n",
       "\n",
       "   size_proxy  \n",
       "0   -1.849891  \n",
       "1   -1.883441  \n",
       "2   -1.188529  \n",
       "3   -1.241071  \n",
       "4   -1.703545  "
      ]
     },
     "execution_count": 42,
     "metadata": {},
     "output_type": "execute_result"
    }
   ],
   "source": [
    "price_factors_path = os.path.join(RESULT_DIR, \"price_factors.csv\")\n",
    "price_df = pd.read_csv(price_factors_path, parse_dates=[\"date\"])\n",
    "price_df.head()\n"
   ]
  },
  {
   "cell_type": "markdown",
   "id": "31085969",
   "metadata": {},
   "source": [
    "### Example Visualization – Momentum vs Volatility\n"
   ]
  },
  {
   "cell_type": "code",
   "execution_count": 43,
   "id": "535307c0",
   "metadata": {},
   "outputs": [
    {
     "data": {
      "image/png": "[encoded data removed]",
      "text/plain": [
       "<Figure size 1000x500 with 1 Axes>"
      ]
     },
     "metadata": {},
     "output_type": "display_data"
    }
   ],
   "source": [
    "import matplotlib.pyplot as plt\n",
    "\n",
    "sample_ticker = price_df[\"ticker\"].unique()[0]\n",
    "df_plot = price_df.query(\"ticker == @sample_ticker\")\n",
    "\n",
    "plt.figure(figsize=(10,5))\n",
    "plt.plot(df_plot[\"date\"], df_plot[\"momentum\"], label=\"Momentum\")\n",
    "plt.plot(df_plot[\"date\"], df_plot[\"volatility\"], label=\"Volatility\")\n",
    "plt.title(f\"Factor Trends for {sample_ticker}\")\n",
    "plt.xlabel(\"Date\")\n",
    "plt.ylabel(\"Z-score Value\")\n",
    "plt.legend()\n",
    "plt.show()\n"
   ]
  },
  {
   "cell_type": "markdown",
   "id": "d5795854",
   "metadata": {},
   "source": [
    "##  Stage 2B – Fundamental Factor Construction\n",
    "\n",
    "If real fundamentals are unavailable, we’ll create dummy data.\n",
    "\n",
    "**Scripts Used:**\n",
    "1. `generate_fundamentals.py` – creates synthetic `fundamental_factors.csv`\n",
    "2. `factor_builder_fundamental.py` – computes normalized Value and Quality factors\n"
   ]
  },
  {
   "cell_type": "code",
   "execution_count": 44,
   "id": "083957c5",
   "metadata": {},
   "outputs": [
    {
     "name": "stdout",
     "output_type": "stream",
     "text": [
      " Reading tickers from merged_prices.csv ...\n",
      " Saved dummy fundamentals to: D:\\Portfolio Optimzation project\\results\\factors\\fundamental_factors.csv\n",
      " Shape: (1988, 7) | Unique tickers: 497\n",
      " Loading fundamental data...\n",
      " Computing value and quality factors...\n",
      " Saving processed factors to: D:\\Portfolio Optimzation project\\results\\factors\\fundamental_factors_processed.csv\n",
      " Fundamental-based factors saved successfully!\n"
     ]
    }
   ],
   "source": [
    "generate_fundamentals()\n",
    "build_fundamental_factors()\n"
   ]
  },
  {
   "cell_type": "markdown",
   "id": "1b2a83fd",
   "metadata": {},
   "source": [
    "###  Preview Processed Fundamental Factors\n"
   ]
  },
  {
   "cell_type": "code",
   "execution_count": 45,
   "id": "996887d6",
   "metadata": {},
   "outputs": [
    {
     "data": {
      "text/html": [
       "<div>\n",
       "<style scoped>\n",
       "    .dataframe tbody tr th:only-of-type {\n",
       "        vertical-align: middle;\n",
       "    }\n",
       "\n",
       "    .dataframe tbody tr th {\n",
       "        vertical-align: top;\n",
       "    }\n",
       "\n",
       "    .dataframe thead th {\n",
       "        text-align: right;\n",
       "    }\n",
       "</style>\n",
       "<table border=\"1\" class=\"dataframe\">\n",
       "  <thead>\n",
       "    <tr style=\"text-align: right;\">\n",
       "      <th></th>\n",
       "      <th>date</th>\n",
       "      <th>ticker</th>\n",
       "      <th>value_composite</th>\n",
       "      <th>quality_composite</th>\n",
       "    </tr>\n",
       "  </thead>\n",
       "  <tbody>\n",
       "    <tr>\n",
       "      <th>0</th>\n",
       "      <td>2019-09-12 00:00:00+05:30</td>\n",
       "      <td>360ONE_DAILY</td>\n",
       "      <td>-0.538997</td>\n",
       "      <td>0.462681</td>\n",
       "    </tr>\n",
       "    <tr>\n",
       "      <th>1</th>\n",
       "      <td>2019-09-16 00:00:00+05:30</td>\n",
       "      <td>360ONE_DAILY</td>\n",
       "      <td>1.244057</td>\n",
       "      <td>-0.587097</td>\n",
       "    </tr>\n",
       "    <tr>\n",
       "      <th>2</th>\n",
       "      <td>2019-09-17 00:00:00+05:30</td>\n",
       "      <td>360ONE_DAILY</td>\n",
       "      <td>-0.211545</td>\n",
       "      <td>1.044901</td>\n",
       "    </tr>\n",
       "    <tr>\n",
       "      <th>3</th>\n",
       "      <td>2019-09-18 00:00:00+05:30</td>\n",
       "      <td>360ONE_DAILY</td>\n",
       "      <td>0.637918</td>\n",
       "      <td>0.291179</td>\n",
       "    </tr>\n",
       "    <tr>\n",
       "      <th>4</th>\n",
       "      <td>2019-09-12 00:00:00+05:30</td>\n",
       "      <td>3MINDIA_DAILY</td>\n",
       "      <td>-0.266278</td>\n",
       "      <td>-0.106797</td>\n",
       "    </tr>\n",
       "  </tbody>\n",
       "</table>\n",
       "</div>"
      ],
      "text/plain": [
       "                       date         ticker  value_composite  quality_composite\n",
       "0 2019-09-12 00:00:00+05:30   360ONE_DAILY        -0.538997           0.462681\n",
       "1 2019-09-16 00:00:00+05:30   360ONE_DAILY         1.244057          -0.587097\n",
       "2 2019-09-17 00:00:00+05:30   360ONE_DAILY        -0.211545           1.044901\n",
       "3 2019-09-18 00:00:00+05:30   360ONE_DAILY         0.637918           0.291179\n",
       "4 2019-09-12 00:00:00+05:30  3MINDIA_DAILY        -0.266278          -0.106797"
      ]
     },
     "execution_count": 45,
     "metadata": {},
     "output_type": "execute_result"
    }
   ],
   "source": [
    "fundamental_processed_path = os.path.join(RESULT_DIR, \"fundamental_factors_processed.csv\")\n",
    "fund_df = pd.read_csv(fundamental_processed_path, parse_dates=[\"date\"])\n",
    "fund_df.head()\n"
   ]
  },
  {
   "cell_type": "markdown",
   "id": "db392e50",
   "metadata": {},
   "source": [
    "##  Stage 2C – Combine All Factors\n",
    "\n",
    "Now we merge price-based and fundamental-based factors into a unified factor matrix.\n",
    "\n",
    "**Input:**  \n",
    "- `price_factors.csv`  \n",
    "- `fundamental_factors_processed.csv`  \n",
    "\n",
    "**Output:**  \n",
    "- `combined_factor_matrix.csv`  \n",
    "- `factor_heatmap.png` (correlation visualization)\n"
   ]
  },
  {
   "cell_type": "code",
   "execution_count": 46,
   "id": "9614ec60",
   "metadata": {},
   "outputs": [
    {
     "name": "stdout",
     "output_type": "stream",
     "text": [
      " Loading price and fundamental factor files...\n",
      " Merging on [date, ticker]...\n",
      " Combined dataset shape: (1560, 8)\n",
      " Saved combined factor matrix → D:\\Portfolio Optimzation project\\results\\factors\\combined_factor_matrix.csv\n",
      " Generating factor correlation heatmap...\n",
      " Heatmap saved → D:\\Portfolio Optimzation project\\reports\\plots\\factor_heatmap.png\n",
      " Stage 2C completed successfully!\n"
     ]
    }
   ],
   "source": [
    "combine_factors()\n"
   ]
  },
  {
   "cell_type": "markdown",
   "id": "8dbc3dc9",
   "metadata": {},
   "source": [
    "###  Verify Combined Factor Matrix\n"
   ]
  },
  {
   "cell_type": "code",
   "execution_count": 49,
   "id": "530c87bf",
   "metadata": {},
   "outputs": [
    {
     "data": {
      "text/html": [
       "<div>\n",
       "<style scoped>\n",
       "    .dataframe tbody tr th:only-of-type {\n",
       "        vertical-align: middle;\n",
       "    }\n",
       "\n",
       "    .dataframe tbody tr th {\n",
       "        vertical-align: top;\n",
       "    }\n",
       "\n",
       "    .dataframe thead th {\n",
       "        text-align: right;\n",
       "    }\n",
       "</style>\n",
       "<table border=\"1\" class=\"dataframe\">\n",
       "  <thead>\n",
       "    <tr style=\"text-align: right;\">\n",
       "      <th></th>\n",
       "      <th>date</th>\n",
       "      <th>ticker</th>\n",
       "      <th>momentum</th>\n",
       "      <th>volatility</th>\n",
       "      <th>liquidity</th>\n",
       "      <th>size_proxy</th>\n",
       "      <th>value_composite</th>\n",
       "      <th>quality_composite</th>\n",
       "    </tr>\n",
       "  </thead>\n",
       "  <tbody>\n",
       "    <tr>\n",
       "      <th>0</th>\n",
       "      <td>2019-09-12 00:00:00+05:30</td>\n",
       "      <td>3MINDIA_DAILY</td>\n",
       "      <td>-0.145609</td>\n",
       "      <td>-0.131404</td>\n",
       "      <td>-0.306795</td>\n",
       "      <td>0.778231</td>\n",
       "      <td>-0.266278</td>\n",
       "      <td>-0.106797</td>\n",
       "    </tr>\n",
       "    <tr>\n",
       "      <th>1</th>\n",
       "      <td>2019-09-16 00:00:00+05:30</td>\n",
       "      <td>3MINDIA_DAILY</td>\n",
       "      <td>-0.200808</td>\n",
       "      <td>-0.115914</td>\n",
       "      <td>-0.306284</td>\n",
       "      <td>1.768316</td>\n",
       "      <td>-0.322639</td>\n",
       "      <td>1.093652</td>\n",
       "    </tr>\n",
       "    <tr>\n",
       "      <th>2</th>\n",
       "      <td>2019-09-17 00:00:00+05:30</td>\n",
       "      <td>3MINDIA_DAILY</td>\n",
       "      <td>-0.200341</td>\n",
       "      <td>-0.115660</td>\n",
       "      <td>-0.305994</td>\n",
       "      <td>0.651378</td>\n",
       "      <td>-0.411522</td>\n",
       "      <td>-1.382477</td>\n",
       "    </tr>\n",
       "    <tr>\n",
       "      <th>3</th>\n",
       "      <td>2019-09-18 00:00:00+05:30</td>\n",
       "      <td>3MINDIA_DAILY</td>\n",
       "      <td>-0.251793</td>\n",
       "      <td>-0.114980</td>\n",
       "      <td>-0.304601</td>\n",
       "      <td>0.029881</td>\n",
       "      <td>-0.435802</td>\n",
       "      <td>-0.127681</td>\n",
       "    </tr>\n",
       "    <tr>\n",
       "      <th>4</th>\n",
       "      <td>2019-09-12 00:00:00+05:30</td>\n",
       "      <td>AARTIIND_DAILY</td>\n",
       "      <td>0.140553</td>\n",
       "      <td>-0.086716</td>\n",
       "      <td>-0.296803</td>\n",
       "      <td>-0.643893</td>\n",
       "      <td>4.978329</td>\n",
       "      <td>-1.048683</td>\n",
       "    </tr>\n",
       "  </tbody>\n",
       "</table>\n",
       "</div>"
      ],
      "text/plain": [
       "                       date          ticker  momentum  volatility  liquidity  \\\n",
       "0 2019-09-12 00:00:00+05:30   3MINDIA_DAILY -0.145609   -0.131404  -0.306795   \n",
       "1 2019-09-16 00:00:00+05:30   3MINDIA_DAILY -0.200808   -0.115914  -0.306284   \n",
       "2 2019-09-17 00:00:00+05:30   3MINDIA_DAILY -0.200341   -0.115660  -0.305994   \n",
       "3 2019-09-18 00:00:00+05:30   3MINDIA_DAILY -0.251793   -0.114980  -0.304601   \n",
       "4 2019-09-12 00:00:00+05:30  AARTIIND_DAILY  0.140553   -0.086716  -0.296803   \n",
       "\n",
       "   size_proxy  value_composite  quality_composite  \n",
       "0    0.778231        -0.266278          -0.106797  \n",
       "1    1.768316        -0.322639           1.093652  \n",
       "2    0.651378        -0.411522          -1.382477  \n",
       "3    0.029881        -0.435802          -0.127681  \n",
       "4   -0.643893         4.978329          -1.048683  "
      ]
     },
     "execution_count": 49,
     "metadata": {},
     "output_type": "execute_result"
    }
   ],
   "source": [
    "combined_path = os.path.join(RESULT_DIR, \"combined_factor_matrix.csv\")\n",
    "combined_df = pd.read_csv(combined_path, parse_dates=[\"date\"])\n",
    "combined_df.head()\n"
   ]
  },
  {
   "cell_type": "markdown",
   "id": "b13992cb",
   "metadata": {},
   "source": [
    "##  Factor Correlation Heatmap\n",
    "This shows how different factors relate to each other — useful for identifying redundant or complementary signals.\n"
   ]
  },
  {
   "cell_type": "code",
   "execution_count": 50,
   "id": "959989b2",
   "metadata": {},
   "outputs": [
    {
     "data": {
      "image/png": "[encoded data removed]",
      "text/plain": [
       "<Figure size 800x600 with 2 Axes>"
      ]
     },
     "metadata": {},
     "output_type": "display_data"
    }
   ],
   "source": [
    "import matplotlib.pyplot as plt\n",
    "import seaborn as sns\n",
    "\n",
    "factor_cols = [\"momentum\", \"volatility\", \"liquidity\", \"size_proxy\",\n",
    "               \"value_composite\", \"quality_composite\"]\n",
    "\n",
    "corr = combined_df[factor_cols].corr()\n",
    "\n",
    "plt.figure(figsize=(8,6))\n",
    "sns.heatmap(corr, annot=True, cmap=\"coolwarm\", center=0)\n",
    "plt.title(\"Factor Correlation Heatmap\")\n",
    "plt.show()\n"
   ]
  },
  {
   "cell_type": "markdown",
   "id": "c826a355",
   "metadata": {},
   "source": [
    "##  Summary\n",
    "\n",
    "| Stage | Description | Output |\n",
    "|--------|--------------|---------|\n",
    "| 2A | Price-based factors | `price_factors.csv` |\n",
    "| 2B | Fundamental-based factors | `fundamental_factors_processed.csv` |\n",
    "| 2C | Combined factor matrix | `combined_factor_matrix.csv` + `factor_heatmap.png` |\n",
    "\n",
    "**Next Step →** Proceed to `03_ml_prediction.ipynb` for machine learning–based signal modeling and portfolio optimization.\n"
   ]
  }
 ],
 "metadata": {
  "kernelspec": {
   "display_name": "portfolio_opt",
   "language": "python",
   "name": "python3"
  },
  "language_info": {
   "codemirror_mode": {
    "name": "ipython",
    "version": 3
   },
   "file_extension": ".py",
   "mimetype": "text/x-python",
   "name": "python",
   "nbconvert_exporter": "python",
   "pygments_lexer": "ipython3",
   "version": "3.10.19"
  }
 },
 "nbformat": 4,
 "nbformat_minor": 5
}
